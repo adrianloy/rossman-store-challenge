{
 "cells": [
  {
   "cell_type": "markdown",
   "metadata": {},
   "source": [
    "# Lets do some data exploration"
   ]
  },
  {
   "cell_type": "code",
   "execution_count": 1,
   "metadata": {},
   "outputs": [],
   "source": [
    "import numpy as np\n",
    "import pandas as pd\n",
    "import matplotlib.pyplot as plt\n",
    "import random as rdm"
   ]
  },
  {
   "cell_type": "code",
   "execution_count": 2,
   "metadata": {},
   "outputs": [
    {
     "data": {
      "text/plain": [
       "Store                     int32\n",
       "DayOfWeek                 int32\n",
       "Date             datetime64[ns]\n",
       "Sales                     int32\n",
       "Customers                 int32\n",
       "Open                       bool\n",
       "Promo                      bool\n",
       "StateHoliday             object\n",
       "SchoolHoliday              bool\n",
       "dtype: object"
      ]
     },
     "execution_count": 2,
     "metadata": {},
     "output_type": "execute_result"
    }
   ],
   "source": [
    "\n",
    "types_train = {'Sales': np.int32,\n",
    "               'Store': np.int32,\n",
    "               'DayOfWeek': np.int32,\n",
    "               'Date': str,\n",
    "               'Customers': np.int32,\n",
    "               'Open': bool,\n",
    "               'Promo': bool,\n",
    "               'StateHoliday': str,\n",
    "               'SchoolHoliday': bool}\n",
    "\n",
    "df_train = pd.read_csv('./data/train.csv', dtype=types_train, parse_dates=['Date'])\n",
    "df_train.dtypes"
   ]
  },
  {
   "cell_type": "markdown",
   "metadata": {
    "collapsed": true
   },
   "source": [
    "Okay, we read the data correctly. Now lets get a feeling for the variables"
   ]
  },
  {
   "cell_type": "code",
   "execution_count": 3,
   "metadata": {},
   "outputs": [
    {
     "data": {
      "text/plain": [
       "count    1.017209e+06\n",
       "mean     5.773819e+03\n",
       "std      3.849926e+03\n",
       "min      0.000000e+00\n",
       "25%      3.727000e+03\n",
       "50%      5.744000e+03\n",
       "75%      7.856000e+03\n",
       "max      4.155100e+04\n",
       "Name: Sales, dtype: float64"
      ]
     },
     "execution_count": 3,
     "metadata": {},
     "output_type": "execute_result"
    }
   ],
   "source": [
    "df_train['Sales'].describe()"
   ]
  },
  {
   "cell_type": "code",
   "execution_count": 4,
   "metadata": {},
   "outputs": [
    {
     "data": {
      "image/png": "[encoded data removed]",
      "text/plain": [
       "<matplotlib.figure.Figure at 0x7f737c8c2860>"
      ]
     },
     "metadata": {},
     "output_type": "display_data"
    }
   ],
   "source": [
    "plt.hist(x=df_train['Sales'], bins=50);"
   ]
  },
  {
   "cell_type": "markdown",
   "metadata": {},
   "source": [
    "Mean and deviation are affected by the days with 0 sales, but these are probably going to be predicted easily using the \"Open\" feature"
   ]
  },
  {
   "cell_type": "code",
   "execution_count": 5,
   "metadata": {},
   "outputs": [
    {
     "data": {
      "text/plain": [
       "count    844338.000000\n",
       "mean       6955.959134\n",
       "std        3103.815515\n",
       "min          46.000000\n",
       "25%        4859.000000\n",
       "50%        6369.000000\n",
       "75%        8360.000000\n",
       "max       41551.000000\n",
       "Name: Sales, dtype: float64"
      ]
     },
     "execution_count": 5,
     "metadata": {},
     "output_type": "execute_result"
    }
   ],
   "source": [
    "df_clean_sales = df_train[df_train['Sales'] > 0]\n",
    "df_clean_sales['Sales'].describe()"
   ]
  },
  {
   "cell_type": "code",
   "execution_count": 6,
   "metadata": {},
   "outputs": [
    {
     "name": "stdout",
     "output_type": "stream",
     "text": [
      "       Entries per store\n",
      "count        1115.000000\n",
      "mean          912.295067\n",
      "std            67.729422\n",
      "min           758.000000\n",
      "25%           942.000000\n",
      "50%           942.000000\n",
      "75%           942.000000\n",
      "max           942.000000\n"
     ]
    }
   ],
   "source": [
    "entries_per_store = df_train.groupby('Store').size()\n",
    "print(entries_per_store.to_frame(name='Entries per store').describe())"
   ]
  },
  {
   "cell_type": "markdown",
   "metadata": {},
   "source": [
    "There are indeed 1115 different stores, as descripted in the kaggle challenge. Normally there are 942 datapoints (=days) per store, some have a bit less but at least 758.\n",
    "\n",
    "Lets do some sanity checks. This helps to see if we understand the data correctly or find errors in the data (unlikly for a kaggle challenge though)"
   ]
  },
  {
   "cell_type": "code",
   "execution_count": 7,
   "metadata": {},
   "outputs": [
    {
     "name": "stdout",
     "output_type": "stream",
     "text": [
      "Missing values? False\n",
      "Percentage of days with 0 sales: 0.17\n"
     ]
    }
   ],
   "source": [
    "print(\"Missing values? \" + str(df_train.isnull().values.any()))\n",
    "print('Percentage of days with 0 sales: {0:0.2f}'.format((df_train['Sales'] == 0).sum() / len(df_train['Sales'])))"
   ]
  },
  {
   "cell_type": "markdown",
   "metadata": {},
   "source": [
    "Seems reasonable, as 14% of the days are Sundays"
   ]
  },
  {
   "cell_type": "code",
   "execution_count": 8,
   "metadata": {},
   "outputs": [
    {
     "name": "stdout",
     "output_type": "stream",
     "text": [
      "Entries with 0 sales: 172871\n",
      "Entries with 0 sales and shop is closed: 172817\n",
      "Entries with 0 sales although shop is open: 54\n",
      "Entries with sales > 0 although shop is closed: 0\n"
     ]
    }
   ],
   "source": [
    "print(\"Entries with 0 sales: \" + \n",
    "      str((df_train['Sales'] == 0).sum()))\n",
    "print(\"Entries with 0 sales and shop is closed: \" + \n",
    "      str(len(df_train[(df_train['Sales'] == 0) & (~(df_train['Open']))])))\n",
    "print(\"Entries with 0 sales although shop is open: \" + \n",
    "      str(len(df_train[(df_train['Sales'] == 0) & (df_train['Open'])])))\n",
    "print(\"Entries with sales > 0 although shop is closed: \" + \n",
    "      str(len(df_train[(df_train['Sales'] > 0) & (~df_train['Open'])])))"
   ]
  },
  {
   "cell_type": "markdown",
   "metadata": {},
   "source": [
    "No sales for an open shop seems odd, but 54 out of over 172817 isn't that much. Even if these points are errornous, they wont have a big impact."
   ]
  },
  {
   "cell_type": "code",
   "execution_count": 9,
   "metadata": {},
   "outputs": [
    {
     "name": "stdout",
     "output_type": "stream",
     "text": [
      "Entries with store is open on a state holiday: 910\n",
      "Entries with store is closed on a state holiday: 30140\n"
     ]
    }
   ],
   "source": [
    "print(\"Entries with store is open on a state holiday: \" + \n",
    "      str(len(df_train[(df_train['StateHoliday'] != '0') & (df_train['Open'])])))\n",
    "print(\"Entries with store is closed on a state holiday: \" + \n",
    "      str(len(df_train[(df_train['StateHoliday'] != '0') & (~(df_train['Open']))])))"
   ]
  },
  {
   "cell_type": "markdown",
   "metadata": {},
   "source": [
    "Now lets get a feeling for the other variables, and how big their impact on the sales are. Lets have a look at the correlation matrix"
   ]
  },
  {
   "cell_type": "code",
   "execution_count": 10,
   "metadata": {},
   "outputs": [
    {
     "data": {
      "text/html": [
       "<div>\n",
       "<style>\n",
       "    .dataframe thead tr:only-child th {\n",
       "        text-align: right;\n",
       "    }\n",
       "\n",
       "    .dataframe thead th {\n",
       "        text-align: left;\n",
       "    }\n",
       "\n",
       "    .dataframe tbody tr th {\n",
       "        vertical-align: top;\n",
       "    }\n",
       "</style>\n",
       "<table border=\"1\" class=\"dataframe\">\n",
       "  <thead>\n",
       "    <tr style=\"text-align: right;\">\n",
       "      <th></th>\n",
       "      <th>Store</th>\n",
       "      <th>DayOfWeek</th>\n",
       "      <th>Sales</th>\n",
       "      <th>Customers</th>\n",
       "      <th>Open</th>\n",
       "      <th>Promo</th>\n",
       "      <th>StateHoliday</th>\n",
       "      <th>SchoolHoliday</th>\n",
       "    </tr>\n",
       "  </thead>\n",
       "  <tbody>\n",
       "    <tr>\n",
       "      <th>Store</th>\n",
       "      <td>1.00</td>\n",
       "      <td>-0.00</td>\n",
       "      <td>0.01</td>\n",
       "      <td>0.02</td>\n",
       "      <td>-0.00</td>\n",
       "      <td>0.00</td>\n",
       "      <td>0.00</td>\n",
       "      <td>0.00</td>\n",
       "    </tr>\n",
       "    <tr>\n",
       "      <th>DayOfWeek</th>\n",
       "      <td>-0.00</td>\n",
       "      <td>1.00</td>\n",
       "      <td>-0.46</td>\n",
       "      <td>-0.39</td>\n",
       "      <td>-0.53</td>\n",
       "      <td>-0.39</td>\n",
       "      <td>-0.04</td>\n",
       "      <td>-0.21</td>\n",
       "    </tr>\n",
       "    <tr>\n",
       "      <th>Sales</th>\n",
       "      <td>0.01</td>\n",
       "      <td>-0.46</td>\n",
       "      <td>1.00</td>\n",
       "      <td>0.89</td>\n",
       "      <td>0.68</td>\n",
       "      <td>0.45</td>\n",
       "      <td>-0.23</td>\n",
       "      <td>0.09</td>\n",
       "    </tr>\n",
       "    <tr>\n",
       "      <th>Customers</th>\n",
       "      <td>0.02</td>\n",
       "      <td>-0.39</td>\n",
       "      <td>0.89</td>\n",
       "      <td>1.00</td>\n",
       "      <td>0.62</td>\n",
       "      <td>0.32</td>\n",
       "      <td>-0.20</td>\n",
       "      <td>0.07</td>\n",
       "    </tr>\n",
       "    <tr>\n",
       "      <th>Open</th>\n",
       "      <td>-0.00</td>\n",
       "      <td>-0.53</td>\n",
       "      <td>0.68</td>\n",
       "      <td>0.62</td>\n",
       "      <td>1.00</td>\n",
       "      <td>0.30</td>\n",
       "      <td>-0.34</td>\n",
       "      <td>0.09</td>\n",
       "    </tr>\n",
       "    <tr>\n",
       "      <th>Promo</th>\n",
       "      <td>0.00</td>\n",
       "      <td>-0.39</td>\n",
       "      <td>0.45</td>\n",
       "      <td>0.32</td>\n",
       "      <td>0.30</td>\n",
       "      <td>1.00</td>\n",
       "      <td>-0.02</td>\n",
       "      <td>0.07</td>\n",
       "    </tr>\n",
       "    <tr>\n",
       "      <th>StateHoliday</th>\n",
       "      <td>0.00</td>\n",
       "      <td>-0.04</td>\n",
       "      <td>-0.23</td>\n",
       "      <td>-0.20</td>\n",
       "      <td>-0.34</td>\n",
       "      <td>-0.02</td>\n",
       "      <td>1.00</td>\n",
       "      <td>0.20</td>\n",
       "    </tr>\n",
       "    <tr>\n",
       "      <th>SchoolHoliday</th>\n",
       "      <td>0.00</td>\n",
       "      <td>-0.21</td>\n",
       "      <td>0.09</td>\n",
       "      <td>0.07</td>\n",
       "      <td>0.09</td>\n",
       "      <td>0.07</td>\n",
       "      <td>0.20</td>\n",
       "      <td>1.00</td>\n",
       "    </tr>\n",
       "  </tbody>\n",
       "</table>\n",
       "</div>"
      ],
      "text/plain": [
       "               Store  DayOfWeek  Sales  Customers  Open  Promo  StateHoliday  \\\n",
       "Store           1.00      -0.00   0.01       0.02 -0.00   0.00          0.00   \n",
       "DayOfWeek      -0.00       1.00  -0.46      -0.39 -0.53  -0.39         -0.04   \n",
       "Sales           0.01      -0.46   1.00       0.89  0.68   0.45         -0.23   \n",
       "Customers       0.02      -0.39   0.89       1.00  0.62   0.32         -0.20   \n",
       "Open           -0.00      -0.53   0.68       0.62  1.00   0.30         -0.34   \n",
       "Promo           0.00      -0.39   0.45       0.32  0.30   1.00         -0.02   \n",
       "StateHoliday    0.00      -0.04  -0.23      -0.20 -0.34  -0.02          1.00   \n",
       "SchoolHoliday   0.00      -0.21   0.09       0.07  0.09   0.07          0.20   \n",
       "\n",
       "               SchoolHoliday  \n",
       "Store                   0.00  \n",
       "DayOfWeek              -0.21  \n",
       "Sales                   0.09  \n",
       "Customers               0.07  \n",
       "Open                    0.09  \n",
       "Promo                   0.07  \n",
       "StateHoliday            0.20  \n",
       "SchoolHoliday           1.00  "
      ]
     },
     "execution_count": 10,
     "metadata": {},
     "output_type": "execute_result"
    }
   ],
   "source": [
    "df_train['StateHoliday'] = pd.Categorical(df_train['StateHoliday']).codes\n",
    "corr = df_train.corr(method='pearson')\n",
    "corr.round(2)"
   ]
  },
  {
   "cell_type": "code",
   "execution_count": 11,
   "metadata": {},
   "outputs": [
    {
     "name": "stdout",
     "output_type": "stream",
     "text": [
      "count    1.017209e+06\n",
      "mean     6.331459e+02\n",
      "std      4.644117e+02\n",
      "min      0.000000e+00\n",
      "25%      4.050000e+02\n",
      "50%      6.090000e+02\n",
      "75%      8.370000e+02\n",
      "max      7.388000e+03\n",
      "Name: Customers, dtype: float64\n"
     ]
    },
    {
     "data": {
      "text/plain": [
       "<matplotlib.axes._subplots.AxesSubplot at 0x7f737cb50cc0>"
      ]
     },
     "execution_count": 11,
     "metadata": {},
     "output_type": "execute_result"
    },
    {
     "data": {
      "image/png": "[encoded data removed]",
      "text/plain": [
       "<matplotlib.figure.Figure at 0x7f737a79f780>"
      ]
     },
     "metadata": {},
     "output_type": "display_data"
    }
   ],
   "source": [
    "print(df_train['Customers'].describe())\n",
    "subs_idx = rdm.sample(range(len(df_train)), 8000)\n",
    "df_subset = pd.concat([df_train['Sales'], df_train['Customers']], axis=1).iloc[subs_idx]\n",
    "df_subset.plot.scatter(x='Customers', y='Sales')"
   ]
  },
  {
   "cell_type": "markdown",
   "metadata": {},
   "source": [
    "As expected, we can see a linear relationship between the amount of customers and the sales of a shop. With a correlation of nearly 90% to the target variable, this feature will help a lot to predict the sales."
   ]
  },
  {
   "cell_type": "code",
   "execution_count": 12,
   "metadata": {},
   "outputs": [
    {
     "data": {
      "text/html": [
       "<div>\n",
       "<style>\n",
       "    .dataframe thead tr:only-child th {\n",
       "        text-align: right;\n",
       "    }\n",
       "\n",
       "    .dataframe thead th {\n",
       "        text-align: left;\n",
       "    }\n",
       "\n",
       "    .dataframe tbody tr th {\n",
       "        vertical-align: top;\n",
       "    }\n",
       "</style>\n",
       "<table border=\"1\" class=\"dataframe\">\n",
       "  <thead>\n",
       "    <tr style=\"text-align: right;\">\n",
       "      <th></th>\n",
       "      <th>Sales</th>\n",
       "      <th>Open</th>\n",
       "      <th>Average Sale per Day</th>\n",
       "    </tr>\n",
       "    <tr>\n",
       "      <th>DayOfWeek</th>\n",
       "      <th></th>\n",
       "      <th></th>\n",
       "      <th></th>\n",
       "    </tr>\n",
       "  </thead>\n",
       "  <tbody>\n",
       "    <tr>\n",
       "      <th>1</th>\n",
       "      <td>1130203012</td>\n",
       "      <td>137560.0</td>\n",
       "      <td>8216.07</td>\n",
       "    </tr>\n",
       "    <tr>\n",
       "      <th>2</th>\n",
       "      <td>1020411930</td>\n",
       "      <td>143961.0</td>\n",
       "      <td>7088.11</td>\n",
       "    </tr>\n",
       "    <tr>\n",
       "      <th>3</th>\n",
       "      <td>954962863</td>\n",
       "      <td>141936.0</td>\n",
       "      <td>6728.12</td>\n",
       "    </tr>\n",
       "    <tr>\n",
       "      <th>4</th>\n",
       "      <td>911177709</td>\n",
       "      <td>134644.0</td>\n",
       "      <td>6767.31</td>\n",
       "    </tr>\n",
       "    <tr>\n",
       "      <th>5</th>\n",
       "      <td>980555941</td>\n",
       "      <td>138640.0</td>\n",
       "      <td>7072.68</td>\n",
       "    </tr>\n",
       "    <tr>\n",
       "      <th>6</th>\n",
       "      <td>846317735</td>\n",
       "      <td>144058.0</td>\n",
       "      <td>5874.84</td>\n",
       "    </tr>\n",
       "    <tr>\n",
       "      <th>7</th>\n",
       "      <td>29551433</td>\n",
       "      <td>3593.0</td>\n",
       "      <td>8224.72</td>\n",
       "    </tr>\n",
       "  </tbody>\n",
       "</table>\n",
       "</div>"
      ],
      "text/plain": [
       "                Sales      Open  Average Sale per Day\n",
       "DayOfWeek                                            \n",
       "1          1130203012  137560.0               8216.07\n",
       "2          1020411930  143961.0               7088.11\n",
       "3           954962863  141936.0               6728.12\n",
       "4           911177709  134644.0               6767.31\n",
       "5           980555941  138640.0               7072.68\n",
       "6           846317735  144058.0               5874.84\n",
       "7            29551433    3593.0               8224.72"
      ]
     },
     "execution_count": 12,
     "metadata": {},
     "output_type": "execute_result"
    }
   ],
   "source": [
    "df_daygrouped = df_train.groupby(['DayOfWeek']).sum()[['Sales', 'Open']]\n",
    "df_daygrouped['Average Sale per Day'] = df_daygrouped['Sales']/df_daygrouped['Open']\n",
    "df_daygrouped.round(2)"
   ]
  },
  {
   "cell_type": "markdown",
   "metadata": {},
   "source": [
    "Opening on Sundays seems to pay off. No big difference between Tue, We, Thu, Fr"
   ]
  },
  {
   "cell_type": "markdown",
   "metadata": {},
   "source": [
    "Let's train a really simple linear regression model, using only the (seemingly) most important feature, the amount of customers. This helps to get a feeling for the difficulty of predicting the sales and gives a baseline to compare other approaches with.\n"
   ]
  },
  {
   "cell_type": "code",
   "execution_count": 16,
   "metadata": {},
   "outputs": [
    {
     "data": {
      "text/plain": [
       "LinearRegression(copy_X=True, fit_intercept=True, n_jobs=1, normalize=False)"
      ]
     },
     "execution_count": 16,
     "metadata": {},
     "output_type": "execute_result"
    }
   ],
   "source": [
    "from sklearn import linear_model\n",
    "\n",
    "\n",
    "#Cast to numpy for scikit-learn and only take the non-trivial datapoints\n",
    "ar_data = df_train[df_train['Open'] == True].as_matrix(columns=['Sales', 'Customers'])\n",
    "\n",
    "# Take 20% of randomly chosen datapoints for evaluation\n",
    "n = len(ar_data)\n",
    "np.random.shuffle(ar_data)\n",
    "amnt_eval = int(np.round(0.2*n))\n",
    "train_set = ar_data[amnt_eval:]\n",
    "eval_set = ar_data[:amnt_eval]\n",
    "\n",
    "# Train the model\n",
    "linregr = linear_model.LinearRegression()\n",
    "linregr.fit(X=train_set[:, 1].reshape(-1, 1), y=train_set[:, 0])"
   ]
  },
  {
   "cell_type": "markdown",
   "metadata": {},
   "source": [
    "Lets use the same evaluation function as in the original challenge: \"Submissions are evaluated on the Root Mean Square Percentage Error (RMSPE) [..] Any day and store with 0 sales is ignored in scoring.\""
   ]
  },
  {
   "cell_type": "code",
   "execution_count": 17,
   "metadata": {},
   "outputs": [
    {
     "name": "stdout",
     "output_type": "stream",
     "text": [
      "RMSPE: 0.282\n"
     ]
    }
   ],
   "source": [
    "eval_y_pred = linregr.predict(eval_set[:, 1].reshape(-1, 1))\n",
    "def rmspe(ar_pred, ar_truth):\n",
    "    \"\"\"\n",
    "    Calculates the root mean square percentage error. Any entries with a truth value of 0 are ignored\n",
    "    \"\"\"\n",
    "    nonzero_idx = np.nonzero(ar_truth)\n",
    "    ar_pred = ar_pred[nonzero_idx]\n",
    "    ar_truth = ar_truth[nonzero_idx]\n",
    "    spe = np.power(np.divide(np.subtract(ar_pred, ar_truth), ar_truth), 2)\n",
    "    return np.sqrt(spe.mean())\n",
    "\n",
    "\n",
    "print(\"RMSPE: {0:0.3f}\".format(rmspe(eval_y_pred, eval_set[:, 0])))"
   ]
  },
  {
   "cell_type": "markdown",
   "metadata": {},
   "source": [
    "Not too bad regarding the fact we only used a single feature. Now lets find out if we could use some usefull information from the date, a feature we havent really looked at yet."
   ]
  },
  {
   "cell_type": "code",
   "execution_count": 18,
   "metadata": {},
   "outputs": [
    {
     "data": {
      "text/plain": [
       "count                 1017209\n",
       "unique                    942\n",
       "top       2015-06-09 00:00:00\n",
       "freq                     1115\n",
       "first     2013-01-01 00:00:00\n",
       "last      2015-07-31 00:00:00\n",
       "Name: Date, dtype: object"
      ]
     },
     "execution_count": 18,
     "metadata": {},
     "output_type": "execute_result"
    }
   ],
   "source": [
    "df_train['Date'].describe()"
   ]
  },
  {
   "cell_type": "code",
   "execution_count": 19,
   "metadata": {},
   "outputs": [
    {
     "data": {
      "image/png": "[encoded data removed]",
      "text/plain": [
       "<matplotlib.figure.Figure at 0x7f736e7ae518>"
      ]
     },
     "metadata": {},
     "output_type": "display_data"
    }
   ],
   "source": [
    "df_dateidx = df_train[['Sales', 'Date']].set_index('Date')\n",
    "df_dateidx = df_dateidx.resample('M').sum()\n",
    "#print(df_dateidx)\n",
    "ax = df_dateidx['Sales'].plot()\n",
    "ax.set_ylim([1.3 * 10**8, 2.6 * 10**8])\n",
    "plt.show()"
   ]
  },
  {
   "cell_type": "markdown",
   "metadata": {},
   "source": [
    "It is unlikely that we can craft a useful feature from the date. There isnt really a correlation between month and sales, e.g. Jul 2014 is the all-time low but Jul '13 and '15 have quite high sales. \n",
    "\n",
    "Good thing we have some more features regarding the stores, lets check out what we got there"
   ]
  },
  {
   "cell_type": "code",
   "execution_count": 20,
   "metadata": {},
   "outputs": [
    {
     "name": "stdout",
     "output_type": "stream",
     "text": [
      "Amount of rows: 1115\n",
      "Missing values? True\n"
     ]
    },
    {
     "data": {
      "text/plain": [
       "Store                         int32\n",
       "StoreType                    object\n",
       "Assortment                   object\n",
       "CompetitionDistance          object\n",
       "CompetitionOpenSinceMonth    object\n",
       "CompetitionOpenSinceYear     object\n",
       "Promo2                         bool\n",
       "Promo2SinceWeek              object\n",
       "Promo2SinceYear              object\n",
       "PromoInterval                object\n",
       "dtype: object"
      ]
     },
     "execution_count": 20,
     "metadata": {},
     "output_type": "execute_result"
    }
   ],
   "source": [
    "types_store = {'Store': np.int32,\n",
    "               'StoreType': str,\n",
    "               'Assortment': str,\n",
    "               'CompetitionDistance': str, # cant use int here, some cells are empty\n",
    "               'CompetitionOpenSinceMonth': str,\n",
    "               'CompetitionOpenSinceYear': str,\n",
    "               'Promo2': bool,\n",
    "               'Promo2SinceWeek': str,\n",
    "               'Promo2SinceYear': str,\n",
    "               'PromoInterval': str}\n",
    "df_store = pd.read_csv('./data/store.csv',\n",
    "                       dtype=types_store)\n",
    "print('Amount of rows: ' + str(len(df_store)))    \n",
    "print('Missing values? ' + str(df_store.isnull().values.any()))\n",
    "df_store.dtypes"
   ]
  },
  {
   "cell_type": "code",
   "execution_count": 21,
   "metadata": {},
   "outputs": [
    {
     "data": {
      "text/plain": [
       "Store                          0\n",
       "StoreType                      0\n",
       "Assortment                     0\n",
       "CompetitionDistance            3\n",
       "CompetitionOpenSinceMonth    354\n",
       "CompetitionOpenSinceYear     354\n",
       "Promo2                         0\n",
       "Promo2SinceWeek              544\n",
       "Promo2SinceYear              544\n",
       "PromoInterval                544\n",
       "dtype: int64"
      ]
     },
     "execution_count": 21,
     "metadata": {},
     "output_type": "execute_result"
    }
   ],
   "source": [
    "df_store.replace('', np.nan, inplace=True)\n",
    "df_store.isnull().sum()"
   ]
  },
  {
   "cell_type": "markdown",
   "metadata": {},
   "source": [
    "We need to do some data cleansing. Lets replace missing values at 'CompetitionDistance' with the median of that column. (Median is more robust to outliers than the mean) "
   ]
  },
  {
   "cell_type": "code",
   "execution_count": 22,
   "metadata": {},
   "outputs": [
    {
     "name": "stdout",
     "output_type": "stream",
     "text": [
      "Median distance to competitors: 2325.0\n"
     ]
    },
    {
     "data": {
      "text/plain": [
       "Store                         int32\n",
       "StoreType                    object\n",
       "Assortment                   object\n",
       "CompetitionDistance           int32\n",
       "CompetitionOpenSinceMonth    object\n",
       "CompetitionOpenSinceYear     object\n",
       "Promo2                         bool\n",
       "Promo2SinceWeek              object\n",
       "Promo2SinceYear              object\n",
       "PromoInterval                object\n",
       "dtype: object"
      ]
     },
     "execution_count": 22,
     "metadata": {},
     "output_type": "execute_result"
    }
   ],
   "source": [
    "comp_dist_avg = df_store[~df_store['CompetitionDistance'].isnull()]['CompetitionDistance'].astype(np.float32).median()\n",
    "print('Median distance to competitors: ' + str(comp_dist_avg))\n",
    "comp_dist_avg = int(np.round(comp_dist_avg))\n",
    "#df_store[df_store['CompetitionDistance'].isnull()]['CompetitionDistance'] = str(comp_dist_avg)\n",
    "df_store['CompetitionDistance'].replace(np.nan, str(comp_dist_avg), inplace=True)\n",
    "df_store['CompetitionDistance'] = df_store['CompetitionDistance'].astype(np.int32)\n",
    "df_store.dtypes"
   ]
  },
  {
   "cell_type": "markdown",
   "metadata": {},
   "source": [
    "Finding meanfull replacements for the columns \"CompetitionOpenSinceMonth/Year' is more difficult. Lets have a closer look at these variables and if they actually influence the sales."
   ]
  },
  {
   "cell_type": "code",
   "execution_count": 23,
   "metadata": {},
   "outputs": [
    {
     "data": {
      "text/plain": [
       "354"
      ]
     },
     "execution_count": 23,
     "metadata": {},
     "output_type": "execute_result"
    }
   ],
   "source": [
    "len(df_store[df_store['CompetitionOpenSinceYear'].isnull() & df_store['CompetitionOpenSinceYear'].isnull()])"
   ]
  },
  {
   "cell_type": "markdown",
   "metadata": {},
   "source": [
    "We already knew that there are 354 null values in each column. So we either have both of them, or neither"
   ]
  },
  {
   "cell_type": "code",
   "execution_count": 24,
   "metadata": {},
   "outputs": [
    {
     "data": {
      "text/html": [
       "<div>\n",
       "<style>\n",
       "    .dataframe thead tr:only-child th {\n",
       "        text-align: right;\n",
       "    }\n",
       "\n",
       "    .dataframe thead th {\n",
       "        text-align: left;\n",
       "    }\n",
       "\n",
       "    .dataframe tbody tr th {\n",
       "        vertical-align: top;\n",
       "    }\n",
       "</style>\n",
       "<table border=\"1\" class=\"dataframe\">\n",
       "  <thead>\n",
       "    <tr style=\"text-align: right;\">\n",
       "      <th></th>\n",
       "      <th>Store</th>\n",
       "      <th>CompetitionOpenSinceYear</th>\n",
       "    </tr>\n",
       "  </thead>\n",
       "  <tbody>\n",
       "    <tr>\n",
       "      <th>count</th>\n",
       "      <td>761.000000</td>\n",
       "      <td>761.000000</td>\n",
       "    </tr>\n",
       "    <tr>\n",
       "      <th>mean</th>\n",
       "      <td>556.797635</td>\n",
       "      <td>2008.668857</td>\n",
       "    </tr>\n",
       "    <tr>\n",
       "      <th>std</th>\n",
       "      <td>322.605611</td>\n",
       "      <td>6.195983</td>\n",
       "    </tr>\n",
       "    <tr>\n",
       "      <th>min</th>\n",
       "      <td>1.000000</td>\n",
       "      <td>1900.000000</td>\n",
       "    </tr>\n",
       "    <tr>\n",
       "      <th>25%</th>\n",
       "      <td>281.000000</td>\n",
       "      <td>2006.000000</td>\n",
       "    </tr>\n",
       "    <tr>\n",
       "      <th>50%</th>\n",
       "      <td>570.000000</td>\n",
       "      <td>2010.000000</td>\n",
       "    </tr>\n",
       "    <tr>\n",
       "      <th>75%</th>\n",
       "      <td>831.000000</td>\n",
       "      <td>2013.000000</td>\n",
       "    </tr>\n",
       "    <tr>\n",
       "      <th>max</th>\n",
       "      <td>1112.000000</td>\n",
       "      <td>2015.000000</td>\n",
       "    </tr>\n",
       "  </tbody>\n",
       "</table>\n",
       "</div>"
      ],
      "text/plain": [
       "             Store  CompetitionOpenSinceYear\n",
       "count   761.000000                761.000000\n",
       "mean    556.797635               2008.668857\n",
       "std     322.605611                  6.195983\n",
       "min       1.000000               1900.000000\n",
       "25%     281.000000               2006.000000\n",
       "50%     570.000000               2010.000000\n",
       "75%     831.000000               2013.000000\n",
       "max    1112.000000               2015.000000"
      ]
     },
     "execution_count": 24,
     "metadata": {},
     "output_type": "execute_result"
    }
   ],
   "source": [
    "df_comps = df_store[~df_store['CompetitionOpenSinceYear'].isnull()][['Store', 'CompetitionOpenSinceYear']]\n",
    "df_comps = df_comps.astype(np.int32)\n",
    "df_comps.describe()"
   ]
  },
  {
   "cell_type": "code",
   "execution_count": 25,
   "metadata": {},
   "outputs": [
    {
     "data": {
      "text/plain": [
       "<matplotlib.axes._subplots.AxesSubplot at 0x7f737a7a9978>"
      ]
     },
     "execution_count": 25,
     "metadata": {},
     "output_type": "execute_result"
    },
    {
     "data": {
      "image/png": "[encoded data removed]",
      "text/plain": [
       "<matplotlib.figure.Figure at 0x7f736e291780>"
      ]
     },
     "metadata": {},
     "output_type": "display_data"
    }
   ],
   "source": [
    "df_comps.groupby(['CompetitionOpenSinceYear']).count().plot.bar()"
   ]
  },
  {
   "cell_type": "markdown",
   "metadata": {},
   "source": [
    "1900 is an outlier. It probably also doesnt make a difference if a competitor opened 20 or 30 years ago, so we can think about simplifying the data by unifying all pre-2000 datapoints. But lets see the relationship with the sales first."
   ]
  },
  {
   "cell_type": "code",
   "execution_count": 26,
   "metadata": {},
   "outputs": [
    {
     "data": {
      "text/html": [
       "<div>\n",
       "<style>\n",
       "    .dataframe thead tr:only-child th {\n",
       "        text-align: right;\n",
       "    }\n",
       "\n",
       "    .dataframe thead th {\n",
       "        text-align: left;\n",
       "    }\n",
       "\n",
       "    .dataframe tbody tr th {\n",
       "        vertical-align: top;\n",
       "    }\n",
       "</style>\n",
       "<table border=\"1\" class=\"dataframe\">\n",
       "  <thead>\n",
       "    <tr style=\"text-align: right;\">\n",
       "      <th></th>\n",
       "      <th>Sales</th>\n",
       "      <th>CompetitionDistance</th>\n",
       "      <th>CompetitionOpenSinceMonth</th>\n",
       "      <th>CompetitionOpenSinceYear</th>\n",
       "      <th>Promo2</th>\n",
       "    </tr>\n",
       "  </thead>\n",
       "  <tbody>\n",
       "    <tr>\n",
       "      <th>Sales</th>\n",
       "      <td>1.000000</td>\n",
       "      <td>-0.048979</td>\n",
       "      <td>-0.052453</td>\n",
       "      <td>0.018893</td>\n",
       "      <td>-0.176585</td>\n",
       "    </tr>\n",
       "    <tr>\n",
       "      <th>CompetitionDistance</th>\n",
       "      <td>-0.048979</td>\n",
       "      <td>1.000000</td>\n",
       "      <td>-0.059126</td>\n",
       "      <td>0.025124</td>\n",
       "      <td>-0.140708</td>\n",
       "    </tr>\n",
       "    <tr>\n",
       "      <th>CompetitionOpenSinceMonth</th>\n",
       "      <td>-0.052453</td>\n",
       "      <td>-0.059126</td>\n",
       "      <td>1.000000</td>\n",
       "      <td>-0.052250</td>\n",
       "      <td>-0.011485</td>\n",
       "    </tr>\n",
       "    <tr>\n",
       "      <th>CompetitionOpenSinceYear</th>\n",
       "      <td>0.018893</td>\n",
       "      <td>0.025124</td>\n",
       "      <td>-0.052250</td>\n",
       "      <td>1.000000</td>\n",
       "      <td>-0.076520</td>\n",
       "    </tr>\n",
       "    <tr>\n",
       "      <th>Promo2</th>\n",
       "      <td>-0.176585</td>\n",
       "      <td>-0.140708</td>\n",
       "      <td>-0.011485</td>\n",
       "      <td>-0.076520</td>\n",
       "      <td>1.000000</td>\n",
       "    </tr>\n",
       "  </tbody>\n",
       "</table>\n",
       "</div>"
      ],
      "text/plain": [
       "                              Sales  CompetitionDistance  \\\n",
       "Sales                      1.000000            -0.048979   \n",
       "CompetitionDistance       -0.048979             1.000000   \n",
       "CompetitionOpenSinceMonth -0.052453            -0.059126   \n",
       "CompetitionOpenSinceYear   0.018893             0.025124   \n",
       "Promo2                    -0.176585            -0.140708   \n",
       "\n",
       "                           CompetitionOpenSinceMonth  \\\n",
       "Sales                                      -0.052453   \n",
       "CompetitionDistance                        -0.059126   \n",
       "CompetitionOpenSinceMonth                   1.000000   \n",
       "CompetitionOpenSinceYear                   -0.052250   \n",
       "Promo2                                     -0.011485   \n",
       "\n",
       "                           CompetitionOpenSinceYear    Promo2  \n",
       "Sales                                      0.018893 -0.176585  \n",
       "CompetitionDistance                        0.025124 -0.140708  \n",
       "CompetitionOpenSinceMonth                 -0.052250 -0.011485  \n",
       "CompetitionOpenSinceYear                   1.000000 -0.076520  \n",
       "Promo2                                    -0.076520  1.000000  "
      ]
     },
     "execution_count": 26,
     "metadata": {},
     "output_type": "execute_result"
    }
   ],
   "source": [
    "df_comps = df_store[~df_store['CompetitionOpenSinceYear'].isnull()]\n",
    "df_comps = df_comps.astype(dtype={'CompetitionOpenSinceYear': np.int32,\n",
    "                       'CompetitionOpenSinceMonth': np.int32})\n",
    "df_merge = pd.merge(df_train[['Store','Sales']], df_comps, how = 'inner', on = 'Store')\n",
    "df_merge = df_merge.groupby('Store').agg(np.mean)\n",
    "df_merge.corr(method='pearson')"
   ]
  },
  {
   "cell_type": "markdown",
   "metadata": {},
   "source": [
    "We aggregated over different dates using the mean, so sales contains the average sale per day for a certain store. The other values are simply the corresponding values for each store. We dont really see any high correlation values here. Suprisingly, Promo2 seems to have a negativ effect on the sales."
   ]
  },
  {
   "cell_type": "markdown",
   "metadata": {},
   "source": [
    "Lets just replace the missing values with 0 for now, one-hot encode the categorical features and get our complete dataset."
   ]
  },
  {
   "cell_type": "code",
   "execution_count": 27,
   "metadata": {},
   "outputs": [
    {
     "data": {
      "text/html": [
       "<div>\n",
       "<style>\n",
       "    .dataframe thead tr:only-child th {\n",
       "        text-align: right;\n",
       "    }\n",
       "\n",
       "    .dataframe thead th {\n",
       "        text-align: left;\n",
       "    }\n",
       "\n",
       "    .dataframe tbody tr th {\n",
       "        vertical-align: top;\n",
       "    }\n",
       "</style>\n",
       "<table border=\"1\" class=\"dataframe\">\n",
       "  <thead>\n",
       "    <tr style=\"text-align: right;\">\n",
       "      <th></th>\n",
       "      <th>Store</th>\n",
       "      <th>DayOfWeek</th>\n",
       "      <th>Sales</th>\n",
       "      <th>Customers</th>\n",
       "      <th>StateHoliday</th>\n",
       "      <th>StoreType</th>\n",
       "      <th>Assortment</th>\n",
       "      <th>CompetitionDistance</th>\n",
       "      <th>CompetitionOpenSinceMonth</th>\n",
       "      <th>CompetitionOpenSinceYear</th>\n",
       "    </tr>\n",
       "  </thead>\n",
       "  <tbody>\n",
       "    <tr>\n",
       "      <th>count</th>\n",
       "      <td>693861.000000</td>\n",
       "      <td>693861.000000</td>\n",
       "      <td>693861.000000</td>\n",
       "      <td>693861.000000</td>\n",
       "      <td>693861.000000</td>\n",
       "      <td>693861.000000</td>\n",
       "      <td>693861.000000</td>\n",
       "      <td>693861.000000</td>\n",
       "      <td>693861.000000</td>\n",
       "      <td>693861.000000</td>\n",
       "    </tr>\n",
       "    <tr>\n",
       "      <th>mean</th>\n",
       "      <td>556.501521</td>\n",
       "      <td>3.998350</td>\n",
       "      <td>5780.898006</td>\n",
       "      <td>633.288927</td>\n",
       "      <td>0.044915</td>\n",
       "      <td>1.146443</td>\n",
       "      <td>0.852266</td>\n",
       "      <td>5414.271057</td>\n",
       "      <td>7.222866</td>\n",
       "      <td>2008.690228</td>\n",
       "    </tr>\n",
       "    <tr>\n",
       "      <th>std</th>\n",
       "      <td>322.512188</td>\n",
       "      <td>1.997392</td>\n",
       "      <td>3874.982491</td>\n",
       "      <td>455.927727</td>\n",
       "      <td>0.283231</td>\n",
       "      <td>1.347344</td>\n",
       "      <td>0.986967</td>\n",
       "      <td>7832.744154</td>\n",
       "      <td>3.211832</td>\n",
       "      <td>5.992644</td>\n",
       "    </tr>\n",
       "    <tr>\n",
       "      <th>min</th>\n",
       "      <td>1.000000</td>\n",
       "      <td>1.000000</td>\n",
       "      <td>0.000000</td>\n",
       "      <td>0.000000</td>\n",
       "      <td>0.000000</td>\n",
       "      <td>0.000000</td>\n",
       "      <td>0.000000</td>\n",
       "      <td>30.000000</td>\n",
       "      <td>1.000000</td>\n",
       "      <td>1900.000000</td>\n",
       "    </tr>\n",
       "    <tr>\n",
       "      <th>25%</th>\n",
       "      <td>281.000000</td>\n",
       "      <td>2.000000</td>\n",
       "      <td>3680.000000</td>\n",
       "      <td>401.000000</td>\n",
       "      <td>0.000000</td>\n",
       "      <td>0.000000</td>\n",
       "      <td>0.000000</td>\n",
       "      <td>720.000000</td>\n",
       "      <td>4.000000</td>\n",
       "      <td>2006.000000</td>\n",
       "    </tr>\n",
       "    <tr>\n",
       "      <th>50%</th>\n",
       "      <td>569.000000</td>\n",
       "      <td>4.000000</td>\n",
       "      <td>5743.000000</td>\n",
       "      <td>613.000000</td>\n",
       "      <td>0.000000</td>\n",
       "      <td>0.000000</td>\n",
       "      <td>0.000000</td>\n",
       "      <td>2230.000000</td>\n",
       "      <td>8.000000</td>\n",
       "      <td>2010.000000</td>\n",
       "    </tr>\n",
       "    <tr>\n",
       "      <th>75%</th>\n",
       "      <td>833.000000</td>\n",
       "      <td>6.000000</td>\n",
       "      <td>7890.000000</td>\n",
       "      <td>845.000000</td>\n",
       "      <td>0.000000</td>\n",
       "      <td>3.000000</td>\n",
       "      <td>2.000000</td>\n",
       "      <td>6470.000000</td>\n",
       "      <td>10.000000</td>\n",
       "      <td>2013.000000</td>\n",
       "    </tr>\n",
       "    <tr>\n",
       "      <th>max</th>\n",
       "      <td>1112.000000</td>\n",
       "      <td>7.000000</td>\n",
       "      <td>38722.000000</td>\n",
       "      <td>7388.000000</td>\n",
       "      <td>3.000000</td>\n",
       "      <td>3.000000</td>\n",
       "      <td>2.000000</td>\n",
       "      <td>58260.000000</td>\n",
       "      <td>12.000000</td>\n",
       "      <td>2015.000000</td>\n",
       "    </tr>\n",
       "  </tbody>\n",
       "</table>\n",
       "</div>"
      ],
      "text/plain": [
       "               Store      DayOfWeek          Sales      Customers  \\\n",
       "count  693861.000000  693861.000000  693861.000000  693861.000000   \n",
       "mean      556.501521       3.998350    5780.898006     633.288927   \n",
       "std       322.512188       1.997392    3874.982491     455.927727   \n",
       "min         1.000000       1.000000       0.000000       0.000000   \n",
       "25%       281.000000       2.000000    3680.000000     401.000000   \n",
       "50%       569.000000       4.000000    5743.000000     613.000000   \n",
       "75%       833.000000       6.000000    7890.000000     845.000000   \n",
       "max      1112.000000       7.000000   38722.000000    7388.000000   \n",
       "\n",
       "        StateHoliday      StoreType     Assortment  CompetitionDistance  \\\n",
       "count  693861.000000  693861.000000  693861.000000        693861.000000   \n",
       "mean        0.044915       1.146443       0.852266          5414.271057   \n",
       "std         0.283231       1.347344       0.986967          7832.744154   \n",
       "min         0.000000       0.000000       0.000000            30.000000   \n",
       "25%         0.000000       0.000000       0.000000           720.000000   \n",
       "50%         0.000000       0.000000       0.000000          2230.000000   \n",
       "75%         0.000000       3.000000       2.000000          6470.000000   \n",
       "max         3.000000       3.000000       2.000000         58260.000000   \n",
       "\n",
       "       CompetitionOpenSinceMonth  CompetitionOpenSinceYear  \n",
       "count              693861.000000             693861.000000  \n",
       "mean                    7.222866               2008.690228  \n",
       "std                     3.211832                  5.992644  \n",
       "min                     1.000000               1900.000000  \n",
       "25%                     4.000000               2006.000000  \n",
       "50%                     8.000000               2010.000000  \n",
       "75%                    10.000000               2013.000000  \n",
       "max                    12.000000               2015.000000  "
      ]
     },
     "execution_count": 27,
     "metadata": {},
     "output_type": "execute_result"
    }
   ],
   "source": [
    "df_store.replace(np.nan, 0, inplace=True)\n",
    "df_store.drop('PromoInterval', axis = 1)\n",
    "df_store = df_store.astype(dtype={'CompetitionOpenSinceYear': np.int32,\n",
    "                       'CompetitionOpenSinceMonth': np.int32})\n",
    "df_merge = pd.merge(df_train, df_comps, how = 'inner', on = 'Store')\n",
    "df_merge['Assortment'] = pd.Categorical(df_merge['Assortment']).codes\n",
    "df_merge['StoreType'] = pd.Categorical(df_merge['StoreType']).codes\n",
    "df_merge = df_merge.drop(labels=['Date'], axis=1)\n",
    "df_merge=df_merge.fillna(value=0)\n",
    "df_merge.describe()"
   ]
  },
  {
   "cell_type": "markdown",
   "metadata": {},
   "source": [
    "# Model training and evaluation"
   ]
  },
  {
   "cell_type": "markdown",
   "metadata": {},
   "source": [
    "Lets see how well linear regression performs using all features:"
   ]
  },
  {
   "cell_type": "code",
   "execution_count": 28,
   "metadata": {},
   "outputs": [
    {
     "name": "stdout",
     "output_type": "stream",
     "text": [
      "RMSPE: 0.203\n"
     ]
    }
   ],
   "source": [
    "df_merge = df_merge[df_merge['Open'] == True]\n",
    "# Reorder so that the target variable is at first position\n",
    "cols = list(df_merge.columns.values)\n",
    "cols.remove('Sales')\n",
    "cols.remove('Store')\n",
    "cols.remove('Open')\n",
    "cols.remove('PromoInterval')\n",
    "cols = ['Sales'] + cols\n",
    "df_merge_sub = df_merge[cols]\n",
    "#Cast to numpy for scikit-learn\n",
    "ar_data = df_merge_sub.as_matrix()\n",
    "# Take 20% of randomly chosen datapoints for evaluation\n",
    "n = len(ar_data)\n",
    "np.random.shuffle(ar_data)\n",
    "amnt_eval = int(np.round(0.2*n))\n",
    "train_set = ar_data[amnt_eval:]\n",
    "eval_set = ar_data[:amnt_eval]\n",
    "# Train the model\n",
    "linregr = linear_model.LinearRegression()\n",
    "linregr.fit(X=train_set[:, 1:], y=train_set[:, 0])\n",
    "# Make predictions using the testing set\n",
    "eval_y_pred = linregr.predict(eval_set[:, 1:])\n",
    "print(\"RMSPE: %.3f\" % rmspe(eval_y_pred, eval_set[:, 0]))"
   ]
  },
  {
   "cell_type": "markdown",
   "metadata": {},
   "source": [
    "We get an 8% improvement compared to only using the amount of customers.Now lets try a model that typically is a bit more flexible and might fit better than a pure linear model: Support Vector Regression. Using non-linear kernels they can adjust to data that linear regression cant. However, they dont scale very well and our dataset is too big for a single SVR. So we split the dataset and train an ensemble.\n",
    "-- ATTENTION: Evaluating the next cell will take a lot of time and is not necessary for the rest of the cells "
   ]
  },
  {
   "cell_type": "code",
   "execution_count": 61,
   "metadata": {},
   "outputs": [
    {
     "name": "stderr",
     "output_type": "stream",
     "text": [
      "/home/adrian/.local/lib/python3.5/site-packages/ipykernel_launcher.py:4: UserWarning: Boolean Series key will be reindexed to match DataFrame index.\n",
      "  after removing the cwd from sys.path.\n"
     ]
    },
    {
     "name": "stdout",
     "output_type": "stream",
     "text": [
      "575041\n",
      "Pickling array (shape=(3,), dtype=int64).\n",
      "Memmaping (shape=(460033, 5), dtype=float64) to new file /dev/shm/joblib_memmaping_pool_13923_140296497530360/13923-140297047146392-2ceca5255f425624626dacaf841d8384.pkl\n",
      "Pickling array (shape=(460033,), dtype=object).\n",
      "Pickling array (shape=(1,), dtype=int64).\n",
      "Pickling array (shape=(3,), dtype=int64).\n",
      "Memmaping (shape=(460033, 5), dtype=float64) to old file /dev/shm/joblib_memmaping_pool_13923_140296497530360/13923-140297047146392-2ceca5255f425624626dacaf841d8384.pkl\n",
      "Pickling array (shape=(460033,), dtype=object).\n",
      "Building estimator 1 of 1 for this parallel run (total 3)...\n",
      "Building estimator 1 of 1 for this parallel run (total 3)...\n",
      "Pickling array (shape=(1,), dtype=int64).\n",
      "Pickling array (shape=(3,), dtype=int64).\n",
      "Memmaping (shape=(460033, 5), dtype=float64) to old file /dev/shm/joblib_memmaping_pool_13923_140296497530360/13923-140297047146392-2ceca5255f425624626dacaf841d8384.pkl\n",
      "Pickling array (shape=(460033,), dtype=object).\n",
      "Pickling array (shape=(1,), dtype=int64).\n",
      "Building estimator 1 of 1 for this parallel run (total 3)...\n",
      "Pickling array (shape=(1,), dtype=float64).\n",
      "Pickling array (shape=(2,), dtype=int32).\n",
      "Pickling array (shape=(0,), dtype=float64).\n",
      "Pickling array (shape=(5000, 5), dtype=float64).\n",
      "Pickling array (shape=(5000,), dtype=int32).\n",
      "Pickling array (shape=(1, 5000), dtype=float64).\n",
      "Pickling array (shape=(1,), dtype=float64).\n",
      "Pickling array (shape=(0,), dtype=float64).\n",
      "Pickling array (shape=(0,), dtype=float64).\n",
      "Pickling array (shape=(5,), dtype=int64).\n",
      "[Parallel(n_jobs=3)]: Done   1 tasks      | elapsed: 101.3min\n",
      "Pickling array (shape=(1,), dtype=float64).\n",
      "Pickling array (shape=(2,), dtype=int32).\n",
      "Pickling array (shape=(0,), dtype=float64).\n",
      "Pickling array (shape=(4995, 5), dtype=float64).\n",
      "Pickling array (shape=(4995,), dtype=int32).\n",
      "Pickling array (shape=(1, 4995), dtype=float64).\n",
      "Pickling array (shape=(1,), dtype=float64).\n",
      "Pickling array (shape=(0,), dtype=float64).\n",
      "Pickling array (shape=(0,), dtype=float64).\n",
      "Pickling array (shape=(5,), dtype=int64).\n",
      "Pickling array (shape=(1,), dtype=float64).\n",
      "Pickling array (shape=(2,), dtype=int32).\n",
      "Pickling array (shape=(0,), dtype=float64).\n",
      "Pickling array (shape=(5000, 5), dtype=float64).\n",
      "Pickling array (shape=(5000,), dtype=int32).\n",
      "Pickling array (shape=(1, 5000), dtype=float64).\n",
      "Pickling array (shape=(1,), dtype=float64).\n",
      "Pickling array (shape=(0,), dtype=float64).\n",
      "Pickling array (shape=(0,), dtype=float64).\n",
      "Pickling array (shape=(5,), dtype=int64).\n",
      "[Parallel(n_jobs=3)]: Done   3 out of   3 | elapsed: 161.9min remaining:    0.0s\n",
      "[Parallel(n_jobs=3)]: Done   3 out of   3 | elapsed: 161.9min finished\n",
      "Pickling array (shape=(1,), dtype=float64).\n",
      "Pickling array (shape=(2,), dtype=int32).\n",
      "Pickling array (shape=(0,), dtype=float64).\n",
      "Pickling array (shape=(4995, 5), dtype=float64).\n",
      "Pickling array (shape=(4995,), dtype=int32).\n",
      "Pickling array (shape=(1, 4995), dtype=float64).\n",
      "Pickling array (shape=(1,), dtype=float64).\n",
      "Pickling array (shape=(0,), dtype=float64).\n",
      "Pickling array (shape=(0,), dtype=float64).\n",
      "Pickling array (shape=(5,), dtype=int64).\n",
      "Memmaping (shape=(115008, 5), dtype=float64) to new file /dev/shm/joblib_memmaping_pool_13923_140296497528904/13923-140297047477608-0149595e1d6f9bcc661ee764ddbc0eea.pkl\n",
      "Pickling array (shape=(1,), dtype=float64).\n",
      "Pickling array (shape=(2,), dtype=int32).\n",
      "Pickling array (shape=(0,), dtype=float64).\n",
      "Pickling array (shape=(5000, 5), dtype=float64).\n",
      "Pickling array (shape=(5000,), dtype=int32).\n",
      "Pickling array (shape=(1, 5000), dtype=float64).\n",
      "Pickling array (shape=(1,), dtype=float64).\n",
      "Pickling array (shape=(0,), dtype=float64).\n",
      "Pickling array (shape=(0,), dtype=float64).\n",
      "Pickling array (shape=(5,), dtype=int64).\n",
      "Memmaping (shape=(115008, 5), dtype=float64) to old file /dev/shm/joblib_memmaping_pool_13923_140296497528904/13923-140297047477608-0149595e1d6f9bcc661ee764ddbc0eea.pkl\n",
      "Pickling array (shape=(1,), dtype=float64).\n",
      "Pickling array (shape=(2,), dtype=int32).\n",
      "Pickling array (shape=(0,), dtype=float64).\n",
      "Pickling array (shape=(5000, 5), dtype=float64).\n",
      "Pickling array (shape=(5000,), dtype=int32).\n",
      "Pickling array (shape=(1, 5000), dtype=float64).\n",
      "Pickling array (shape=(1,), dtype=float64).\n",
      "Pickling array (shape=(0,), dtype=float64).\n",
      "Pickling array (shape=(0,), dtype=float64).\n",
      "Pickling array (shape=(5,), dtype=int64).\n",
      "Memmaping (shape=(115008, 5), dtype=float64) to old file /dev/shm/joblib_memmaping_pool_13923_140296497528904/13923-140297047477608-0149595e1d6f9bcc661ee764ddbc0eea.pkl\n",
      "Pickling array (shape=(115008,), dtype=float64).\n",
      "[Parallel(n_jobs=3)]: Done   1 tasks      | elapsed:   13.5s\n",
      "Pickling array (shape=(115008,), dtype=float64).\n",
      "Pickling array (shape=(115008,), dtype=float64).\n",
      "[Parallel(n_jobs=3)]: Done   3 out of   3 | elapsed:   13.8s remaining:    0.0s\n",
      "[Parallel(n_jobs=3)]: Done   3 out of   3 | elapsed:   13.8s finished\n",
      "[6916.53198357 7413.1195654  6284.18867573 6413.43698664 9029.55645322\n",
      " 6746.12792972  318.64528711 5967.58585742 7220.87918042  571.3525449 ]\n",
      "[5950 4460 6179 6440 9137 6892 0 6322 6423 0]\n",
      "[5950 4460 6179 6440 9137 6892 0 6322 6423 0]\n",
      "RMSPE: 0.359\n"
     ]
    }
   ],
   "source": [
    "from sklearn import decomposition\n",
    "from sklearn.ensemble import BaggingRegressor\n",
    "from sklearn.svm import SVR\n",
    "#Cast to numpy for scikit-learn\n",
    "ar_data = df_merge_sub.as_matrix()\n",
    "n = len(ar_data)\n",
    "print('Available datapoints: ' + str(n))\n",
    "# Split target variable from rest, apply PCA\n",
    "np.random.shuffle(ar_data)\n",
    "X=ar_data[:, 1:] \n",
    "y=ar_data[:, 0]\n",
    "pca = decomposition.PCA(n_components=5)\n",
    "pca.fit(X)\n",
    "X = pca.transform(X)\n",
    "# Take 20% of randomly chosen datapoints for evaluation\n",
    "amnt_eval = int(np.round(0.2*n))\n",
    "X_train = X[amnt_eval:]\n",
    "X_eval = X[:amnt_eval]\n",
    "y_train = y[amnt_eval:]\n",
    "y_eval = y[:amnt_eval]\n",
    "# Train the model\n",
    "svr_ensemble = BaggingRegressor(base_estimator=SVR(kernel='linear', C=100, degree=2, epsilon=10, tol=1),\n",
    "                                n_estimators=3,\n",
    "                                max_samples=5000,\n",
    "                                max_features=5,\n",
    "                                bootstrap=False,\n",
    "                                n_jobs=-1,\n",
    "                                verbose=100)\n",
    "                                \n",
    "svr_ensemble.fit(X=X_train, y=y_train)\n",
    "# Make predictions using the testing set\n",
    "eval_y_pred = svr_ensemble.predict(X_eval)\n",
    "\n",
    "print(eval_y_pred[0:10])\n",
    "print(y_eval[0:10])\n",
    "print(y[0:10])\n",
    "\n",
    "print(\"RMSPE: %.3f\" % rmspe(eval_y_pred, y_eval))"
   ]
  },
  {
   "cell_type": "markdown",
   "metadata": {},
   "source": [
    "Even the ensemble takes quite a lot of time: Training 3 SVMs in parallel with only 5000 out of 575041 takes 160min on a feature space reduced to 5 features using PCA. Due to time constraints I therefore didnt actually compute the ensemble I had in mind (10 SVMs with polynomial kernel on 10000 points). Regarding the fact that a very tiny subset of the available data was used and no hyper-parameter tuning (C and epsilon) was done yet, the resulting 0.359 RMSPE do not look that bad."
   ]
  },
  {
   "cell_type": "markdown",
   "metadata": {},
   "source": [
    "If we want to a get a esemble that does not take that long, Random Forests are the way to go. Random forests show competing results on a range of problems, so lets see what we get."
   ]
  },
  {
   "cell_type": "code",
   "execution_count": 29,
   "metadata": {},
   "outputs": [
    {
     "name": "stdout",
     "output_type": "stream",
     "text": [
      "RMSPE: 0.073\n"
     ]
    }
   ],
   "source": [
    "from sklearn import decomposition\n",
    "from sklearn.ensemble import RandomForestRegressor\n",
    "X=ar_data[:, 1:] \n",
    "y=ar_data[:, 0]\n",
    "# Take 20% of randomly chosen datapoints for evaluation\n",
    "amnt_eval = int(np.round(0.2*n))\n",
    "X_train = X[amnt_eval:]\n",
    "X_eval = X[:amnt_eval]\n",
    "y_train = y[amnt_eval:]\n",
    "y_eval = y[:amnt_eval]\n",
    "# Train the model\n",
    "forest = RandomForestRegressor(n_estimators=27, n_jobs=-1)\n",
    "                                \n",
    "forest.fit(X=X_train, y=y_train)\n",
    "# Make predictions using the testing set\n",
    "eval_y_pred = forest.predict(X_eval)\n",
    "\n",
    "print(\"RMSPE: %.3f\" % rmspe(eval_y_pred, y_eval))"
   ]
  },
  {
   "cell_type": "markdown",
   "metadata": {},
   "source": [
    "As we can see the random forest fit the data pretty well and achieve an impressive RMSPE of ~7% on the evaluation set. Future work to further improve this model could include crafting additional features or removing outliers."
   ]
  },
  {
   "cell_type": "code",
   "execution_count": null,
   "metadata": {},
   "outputs": [],
   "source": []
  }
 ],
 "metadata": {
  "kernelspec": {
   "display_name": "Python 3",
   "language": "python",
   "name": "python3"
  },
  "language_info": {
   "codemirror_mode": {
    "name": "ipython",
    "version": 3
   },
   "file_extension": ".py",
   "mimetype": "text/x-python",
   "name": "python",
   "nbconvert_exporter": "python",
   "pygments_lexer": "ipython3",
   "version": "3.5.3"
  }
 },
 "nbformat": 4,
 "nbformat_minor": 2
}
