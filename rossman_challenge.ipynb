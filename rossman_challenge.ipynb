{
 "cells": [
  {
   "cell_type": "code",
   "execution_count": 2,
   "metadata": {},
   "outputs": [],
   "source": [
    "import numpy as np\n",
    "import pandas as pd\n",
    "import matplotlib.pyplot as plt\n",
    "import random as rdm"
   ]
  },
  {
   "cell_type": "markdown",
   "metadata": {},
   "source": [
    "# Lets do some data exploration"
   ]
  },
  {
   "cell_type": "code",
   "execution_count": 13,
   "metadata": {},
   "outputs": [
    {
     "data": {
      "text/plain": [
       "Store                     int32\n",
       "DayOfWeek                 int32\n",
       "Date             datetime64[ns]\n",
       "Sales                     int32\n",
       "Customers                 int32\n",
       "Open                       bool\n",
       "Promo                      bool\n",
       "StateHoliday             object\n",
       "SchoolHoliday              bool\n",
       "dtype: object"
      ]
     },
     "execution_count": 13,
     "metadata": {},
     "output_type": "execute_result"
    }
   ],
   "source": [
    "\n",
    "types_train = {'Sales': np.int32,\n",
    "               'Store': np.int32,\n",
    "               'DayOfWeek': np.int32,\n",
    "               'Date': str,\n",
    "               'Customers': np.int32,\n",
    "               'Open': bool,\n",
    "               'Promo': bool,\n",
    "               'StateHoliday': str,\n",
    "               'SchoolHoliday': bool}\n",
    "\n",
    "df_train = pd.read_csv('./data/train.csv', dtype=types_train, parse_dates=['Date'])\n",
    "df_train.dtypes"
   ]
  },
  {
   "cell_type": "markdown",
   "metadata": {
    "collapsed": true
   },
   "source": [
    "Okay, we read the data correctly. Now lets get a feeling for the variables"
   ]
  },
  {
   "cell_type": "code",
   "execution_count": 12,
   "metadata": {},
   "outputs": [
    {
     "data": {
      "text/plain": [
       "count    1.017209e+06\n",
       "mean     5.773819e+03\n",
       "std      3.849926e+03\n",
       "min      0.000000e+00\n",
       "25%      3.727000e+03\n",
       "50%      5.744000e+03\n",
       "75%      7.856000e+03\n",
       "max      4.155100e+04\n",
       "Name: Sales, dtype: float64"
      ]
     },
     "execution_count": 12,
     "metadata": {},
     "output_type": "execute_result"
    }
   ],
   "source": [
    "df_train['Sales'].describe()"
   ]
  },
  {
   "cell_type": "code",
   "execution_count": 41,
   "metadata": {},
   "outputs": [
    {
     "data": {
      "image/png": "[encoded data removed]",
      "text/plain": [
       "<matplotlib.figure.Figure at 0x7f4f5ee3cbe0>"
      ]
     },
     "metadata": {},
     "output_type": "display_data"
    }
   ],
   "source": [
    "plt.hist(x=df_train['Sales'], bins=50);"
   ]
  },
  {
   "cell_type": "markdown",
   "metadata": {},
   "source": [
    "Mean and deviation are affected by the days with 0 sales, but these are probably going to be predicted easily using the \"Open\" feature"
   ]
  },
  {
   "cell_type": "code",
   "execution_count": 6,
   "metadata": {},
   "outputs": [
    {
     "data": {
      "text/plain": [
       "count    844338.000000\n",
       "mean       6955.959134\n",
       "std        3103.815515\n",
       "min          46.000000\n",
       "25%        4859.000000\n",
       "50%        6369.000000\n",
       "75%        8360.000000\n",
       "max       41551.000000\n",
       "Name: Sales, dtype: float64"
      ]
     },
     "execution_count": 6,
     "metadata": {},
     "output_type": "execute_result"
    }
   ],
   "source": [
    "df_clean_sales = df_train[df_train['Sales'] > 0]\n",
    "df_clean_sales['Sales'].describe()"
   ]
  },
  {
   "cell_type": "code",
   "execution_count": 3,
   "metadata": {},
   "outputs": [
    {
     "name": "stdout",
     "output_type": "stream",
     "text": [
      "       Entries per store\n",
      "count        1115.000000\n",
      "mean          912.295067\n",
      "std            67.729422\n",
      "min           758.000000\n",
      "25%           942.000000\n",
      "50%           942.000000\n",
      "75%           942.000000\n",
      "max           942.000000\n"
     ]
    }
   ],
   "source": [
    "entries_per_store = df_train.groupby('Store').size()\n",
    "print(entries_per_store.to_frame(name='Entries per store').describe())"
   ]
  },
  {
   "cell_type": "markdown",
   "metadata": {},
   "source": [
    "There are indeed 1115 different stores, as descripted in the kaggle challenge. Normally there are 942 datapoints (=days) per store, some have a bit less but at least 758.\n",
    "\n",
    "Lets do some sanity checks. This helps to see if we understand the data correctly or find errors in the data (unlikly for a kaggle challenge though)"
   ]
  },
  {
   "cell_type": "code",
   "execution_count": 4,
   "metadata": {},
   "outputs": [
    {
     "name": "stdout",
     "output_type": "stream",
     "text": [
      "Missing values? False\n",
      "Percentage of days with 0 sales: 0.17\n"
     ]
    }
   ],
   "source": [
    "print(\"Missing values? \" + str(df_train.isnull().values.any()))\n",
    "print('Percentage of days with 0 sales: {0:0.2f}'.format((df_train['Sales'] == 0).sum() / len(df_train['Sales'])))"
   ]
  },
  {
   "cell_type": "markdown",
   "metadata": {},
   "source": [
    "Seems reasonable, as 14% of the days are Sundays"
   ]
  },
  {
   "cell_type": "code",
   "execution_count": 32,
   "metadata": {},
   "outputs": [
    {
     "name": "stdout",
     "output_type": "stream",
     "text": [
      "Entries with 0 sales: 172871\n",
      "Entries with 0 sales and shop is closed: 172817\n",
      "Entries with 0 sales although shop is open: 54\n",
      "Entries with sales > 0 although shop is closed: 0\n"
     ]
    }
   ],
   "source": [
    "print(\"Entries with 0 sales: \" + \n",
    "      str((df_train['Sales'] == 0).sum()))\n",
    "print(\"Entries with 0 sales and shop is closed: \" + \n",
    "      str(len(df_train[(df_train['Sales'] == 0) & (~(df_train['Open']))])))\n",
    "print(\"Entries with 0 sales although shop is open: \" + \n",
    "      str(len(df_train[(df_train['Sales'] == 0) & (df_train['Open'])])))\n",
    "print(\"Entries with sales > 0 although shop is closed: \" + \n",
    "      str(len(df_train[(df_train['Sales'] > 0) & (~df_train['Open'])])))"
   ]
  },
  {
   "cell_type": "markdown",
   "metadata": {},
   "source": [
    "No sales for an open shop seems odd, but 54 out of over 172817 isn't that much. Even if these points are errornous, they wont have a big impact."
   ]
  },
  {
   "cell_type": "code",
   "execution_count": 11,
   "metadata": {},
   "outputs": [
    {
     "name": "stdout",
     "output_type": "stream",
     "text": [
      "Entries with store is open on a state holiday: 910\n",
      "Entries with store is closed on a state holiday: 30140\n"
     ]
    }
   ],
   "source": [
    "print(\"Entries with store is open on a state holiday: \" + \n",
    "      str(len(df_train[(df_train['StateHoliday'] != '0') & (df_train['Open'])])))\n",
    "print(\"Entries with store is closed on a state holiday: \" + \n",
    "      str(len(df_train[(df_train['StateHoliday'] != '0') & (~(df_train['Open']))])))"
   ]
  },
  {
   "cell_type": "markdown",
   "metadata": {},
   "source": [
    "Now lets get a feeling for the other variables, and how big their impact on the sales are. Lets have a look at the correlation matrix"
   ]
  },
  {
   "cell_type": "code",
   "execution_count": 133,
   "metadata": {},
   "outputs": [
    {
     "data": {
      "text/html": [
       "<div>\n",
       "<style>\n",
       "    .dataframe thead tr:only-child th {\n",
       "        text-align: right;\n",
       "    }\n",
       "\n",
       "    .dataframe thead th {\n",
       "        text-align: left;\n",
       "    }\n",
       "\n",
       "    .dataframe tbody tr th {\n",
       "        vertical-align: top;\n",
       "    }\n",
       "</style>\n",
       "<table border=\"1\" class=\"dataframe\">\n",
       "  <thead>\n",
       "    <tr style=\"text-align: right;\">\n",
       "      <th></th>\n",
       "      <th>Store</th>\n",
       "      <th>DayOfWeek</th>\n",
       "      <th>Sales</th>\n",
       "      <th>Customers</th>\n",
       "      <th>Open</th>\n",
       "      <th>Promo</th>\n",
       "      <th>StateHoliday</th>\n",
       "      <th>SchoolHoliday</th>\n",
       "    </tr>\n",
       "  </thead>\n",
       "  <tbody>\n",
       "    <tr>\n",
       "      <th>Store</th>\n",
       "      <td>1.00</td>\n",
       "      <td>-0.00</td>\n",
       "      <td>0.01</td>\n",
       "      <td>0.02</td>\n",
       "      <td>-0.00</td>\n",
       "      <td>0.00</td>\n",
       "      <td>0.00</td>\n",
       "      <td>0.00</td>\n",
       "    </tr>\n",
       "    <tr>\n",
       "      <th>DayOfWeek</th>\n",
       "      <td>-0.00</td>\n",
       "      <td>1.00</td>\n",
       "      <td>-0.46</td>\n",
       "      <td>-0.39</td>\n",
       "      <td>-0.53</td>\n",
       "      <td>-0.39</td>\n",
       "      <td>-0.04</td>\n",
       "      <td>-0.21</td>\n",
       "    </tr>\n",
       "    <tr>\n",
       "      <th>Sales</th>\n",
       "      <td>0.01</td>\n",
       "      <td>-0.46</td>\n",
       "      <td>1.00</td>\n",
       "      <td>0.89</td>\n",
       "      <td>0.68</td>\n",
       "      <td>0.45</td>\n",
       "      <td>-0.23</td>\n",
       "      <td>0.09</td>\n",
       "    </tr>\n",
       "    <tr>\n",
       "      <th>Customers</th>\n",
       "      <td>0.02</td>\n",
       "      <td>-0.39</td>\n",
       "      <td>0.89</td>\n",
       "      <td>1.00</td>\n",
       "      <td>0.62</td>\n",
       "      <td>0.32</td>\n",
       "      <td>-0.20</td>\n",
       "      <td>0.07</td>\n",
       "    </tr>\n",
       "    <tr>\n",
       "      <th>Open</th>\n",
       "      <td>-0.00</td>\n",
       "      <td>-0.53</td>\n",
       "      <td>0.68</td>\n",
       "      <td>0.62</td>\n",
       "      <td>1.00</td>\n",
       "      <td>0.30</td>\n",
       "      <td>-0.34</td>\n",
       "      <td>0.09</td>\n",
       "    </tr>\n",
       "    <tr>\n",
       "      <th>Promo</th>\n",
       "      <td>0.00</td>\n",
       "      <td>-0.39</td>\n",
       "      <td>0.45</td>\n",
       "      <td>0.32</td>\n",
       "      <td>0.30</td>\n",
       "      <td>1.00</td>\n",
       "      <td>-0.02</td>\n",
       "      <td>0.07</td>\n",
       "    </tr>\n",
       "    <tr>\n",
       "      <th>StateHoliday</th>\n",
       "      <td>0.00</td>\n",
       "      <td>-0.04</td>\n",
       "      <td>-0.23</td>\n",
       "      <td>-0.20</td>\n",
       "      <td>-0.34</td>\n",
       "      <td>-0.02</td>\n",
       "      <td>1.00</td>\n",
       "      <td>0.20</td>\n",
       "    </tr>\n",
       "    <tr>\n",
       "      <th>SchoolHoliday</th>\n",
       "      <td>0.00</td>\n",
       "      <td>-0.21</td>\n",
       "      <td>0.09</td>\n",
       "      <td>0.07</td>\n",
       "      <td>0.09</td>\n",
       "      <td>0.07</td>\n",
       "      <td>0.20</td>\n",
       "      <td>1.00</td>\n",
       "    </tr>\n",
       "  </tbody>\n",
       "</table>\n",
       "</div>"
      ],
      "text/plain": [
       "               Store  DayOfWeek  Sales  Customers  Open  Promo  StateHoliday  \\\n",
       "Store           1.00      -0.00   0.01       0.02 -0.00   0.00          0.00   \n",
       "DayOfWeek      -0.00       1.00  -0.46      -0.39 -0.53  -0.39         -0.04   \n",
       "Sales           0.01      -0.46   1.00       0.89  0.68   0.45         -0.23   \n",
       "Customers       0.02      -0.39   0.89       1.00  0.62   0.32         -0.20   \n",
       "Open           -0.00      -0.53   0.68       0.62  1.00   0.30         -0.34   \n",
       "Promo           0.00      -0.39   0.45       0.32  0.30   1.00         -0.02   \n",
       "StateHoliday    0.00      -0.04  -0.23      -0.20 -0.34  -0.02          1.00   \n",
       "SchoolHoliday   0.00      -0.21   0.09       0.07  0.09   0.07          0.20   \n",
       "\n",
       "               SchoolHoliday  \n",
       "Store                   0.00  \n",
       "DayOfWeek              -0.21  \n",
       "Sales                   0.09  \n",
       "Customers               0.07  \n",
       "Open                    0.09  \n",
       "Promo                   0.07  \n",
       "StateHoliday            0.20  \n",
       "SchoolHoliday           1.00  "
      ]
     },
     "execution_count": 133,
     "metadata": {},
     "output_type": "execute_result"
    }
   ],
   "source": [
    "df_train['StateHoliday'] = pd.Categorical(df_train['StateHoliday']).codes\n",
    "corr = df_train.corr(method='pearson')\n",
    "corr.round(2)"
   ]
  },
  {
   "cell_type": "code",
   "execution_count": 12,
   "metadata": {},
   "outputs": [
    {
     "name": "stdout",
     "output_type": "stream",
     "text": [
      "count    1.017209e+06\n",
      "mean     6.331459e+02\n",
      "std      4.644117e+02\n",
      "min      0.000000e+00\n",
      "25%      4.050000e+02\n",
      "50%      6.090000e+02\n",
      "75%      8.370000e+02\n",
      "max      7.388000e+03\n",
      "Name: Customers, dtype: float64\n"
     ]
    },
    {
     "data": {
      "text/plain": [
       "<matplotlib.axes._subplots.AxesSubplot at 0x7f4f53c7c128>"
      ]
     },
     "execution_count": 12,
     "metadata": {},
     "output_type": "execute_result"
    },
    {
     "data": {
      "image/png": "[encoded data removed]",
      "text/plain": [
       "<matplotlib.figure.Figure at 0x7f4f5ee7ebe0>"
      ]
     },
     "metadata": {},
     "output_type": "display_data"
    }
   ],
   "source": [
    "print(df_train['Customers'].describe())\n",
    "subs_idx = rdm.sample(range(len(df_train)), 8000)\n",
    "df_subset = pd.concat([df_train['Sales'], df_train['Customers']], axis=1).iloc[subs_idx]\n",
    "df_subset.plot.scatter(x='Customers', y='Sales')"
   ]
  },
  {
   "cell_type": "markdown",
   "metadata": {},
   "source": [
    "As expected, we can see a linear relationship between the amount of customers and the sales of a shop. With a correlation of nearly 90% to the target variable, this feature will help a lot to predict the sales."
   ]
  },
  {
   "cell_type": "code",
   "execution_count": 58,
   "metadata": {},
   "outputs": [
    {
     "data": {
      "text/html": [
       "<div>\n",
       "<style>\n",
       "    .dataframe thead tr:only-child th {\n",
       "        text-align: right;\n",
       "    }\n",
       "\n",
       "    .dataframe thead th {\n",
       "        text-align: left;\n",
       "    }\n",
       "\n",
       "    .dataframe tbody tr th {\n",
       "        vertical-align: top;\n",
       "    }\n",
       "</style>\n",
       "<table border=\"1\" class=\"dataframe\">\n",
       "  <thead>\n",
       "    <tr style=\"text-align: right;\">\n",
       "      <th></th>\n",
       "      <th>Sales</th>\n",
       "      <th>Open</th>\n",
       "      <th>Average Sale per Day</th>\n",
       "    </tr>\n",
       "    <tr>\n",
       "      <th>DayOfWeek</th>\n",
       "      <th></th>\n",
       "      <th></th>\n",
       "      <th></th>\n",
       "    </tr>\n",
       "  </thead>\n",
       "  <tbody>\n",
       "    <tr>\n",
       "      <th>1</th>\n",
       "      <td>1130203012</td>\n",
       "      <td>137560.0</td>\n",
       "      <td>8216.07</td>\n",
       "    </tr>\n",
       "    <tr>\n",
       "      <th>2</th>\n",
       "      <td>1020411930</td>\n",
       "      <td>143961.0</td>\n",
       "      <td>7088.11</td>\n",
       "    </tr>\n",
       "    <tr>\n",
       "      <th>3</th>\n",
       "      <td>954962863</td>\n",
       "      <td>141936.0</td>\n",
       "      <td>6728.12</td>\n",
       "    </tr>\n",
       "    <tr>\n",
       "      <th>4</th>\n",
       "      <td>911177709</td>\n",
       "      <td>134644.0</td>\n",
       "      <td>6767.31</td>\n",
       "    </tr>\n",
       "    <tr>\n",
       "      <th>5</th>\n",
       "      <td>980555941</td>\n",
       "      <td>138640.0</td>\n",
       "      <td>7072.68</td>\n",
       "    </tr>\n",
       "    <tr>\n",
       "      <th>6</th>\n",
       "      <td>846317735</td>\n",
       "      <td>144058.0</td>\n",
       "      <td>5874.84</td>\n",
       "    </tr>\n",
       "    <tr>\n",
       "      <th>7</th>\n",
       "      <td>29551433</td>\n",
       "      <td>3593.0</td>\n",
       "      <td>8224.72</td>\n",
       "    </tr>\n",
       "  </tbody>\n",
       "</table>\n",
       "</div>"
      ],
      "text/plain": [
       "<div>\n",
       "<style>\n",
       "    .dataframe thead tr:only-child th {\n",
       "        text-align: right;\n",
       "    }\n",
       "\n",
       "    .dataframe thead th {\n",
       "        text-align: left;\n",
       "    }\n",
       "\n",
       "    .dataframe tbody tr th {\n",
       "        vertical-align: top;\n",
       "    }\n",
       "</style>\n",
       "<table border=\"1\" class=\"dataframe\">\n",
       "  <thead>\n",
       "    <tr style=\"text-align: right;\">\n",
       "      <th></th>\n",
       "      <th>Sales</th>\n",
       "      <th>Open</th>\n",
       "      <th>Average Sale per Day</th>\n",
       "    </tr>\n",
       "    <tr>\n",
       "      <th>DayOfWeek</th>\n",
       "      <th></th>\n",
       "      <th></th>\n",
       "      <th></th>\n",
       "    </tr>\n",
       "  </thead>\n",
       "  <tbody>\n",
       "    <tr>\n",
       "      <th>1</th>\n",
       "      <td>1130203012</td>\n",
       "      <td>137560.0</td>\n",
       "      <td>8216.07</td>\n",
       "    </tr>\n",
       "    <tr>\n",
       "      <th>2</th>\n",
       "      <td>1020411930</td>\n",
       "      <td>143961.0</td>\n",
       "      <td>7088.11</td>\n",
       "    </tr>\n",
       "    <tr>\n",
       "      <th>3</th>\n",
       "      <td>954962863</td>\n",
       "      <td>141936.0</td>\n",
       "      <td>6728.12</td>\n",
       "    </tr>\n",
       "    <tr>\n",
       "      <th>4</th>\n",
       "      <td>911177709</td>\n",
       "      <td>134644.0</td>\n",
       "      <td>6767.31</td>\n",
       "    </tr>\n",
       "    <tr>\n",
       "      <th>5</th>\n",
       "      <td>980555941</td>\n",
       "      <td>138640.0</td>\n",
       "      <td>7072.68</td>\n",
       "    </tr>\n",
       "    <tr>\n",
       "      <th>6</th>\n",
       "      <td>846317735</td>\n",
       "      <td>144058.0</td>\n",
       "      <td>5874.84</td>\n",
       "    </tr>\n",
       "    <tr>\n",
       "      <th>7</th>\n",
       "      <td>29551433</td>\n",
       "      <td>3593.0</td>\n",
       "      <td>8224.72</td>\n",
       "    </tr>\n",
       "  </tbody>\n",
       "</table>\n",
       "</div>"
      ]
     },
     "execution_count": 58,
     "metadata": {},
     "output_type": "execute_result"
    }
   ],
   "source": [
    "df_daygrouped = df_train.groupby(['DayOfWeek']).sum()[['Sales', 'Open']]\n",
    "df_daygrouped['Average Sale per Day'] = df_daygrouped['Sales']/df_daygrouped['Open']\n",
    "df_daygrouped.round(2)"
   ]
  },
  {
   "cell_type": "markdown",
   "metadata": {},
   "source": [
    "Opening on Sundays seems to pay off. No big difference between Tue, We, Thu, Fr"
   ]
  },
  {
   "cell_type": "markdown",
   "metadata": {},
   "source": [
    "Let's train a really simple linear regression model, using only the (seemingly) most important feature, the amount of customers. This helps to get a feeling for the difficulty of predicting the sales and gives a baseline to compare other approaches with.\n"
   ]
  },
  {
   "cell_type": "code",
   "execution_count": 4,
   "metadata": {},
   "outputs": [
    {
     "data": {
      "text/plain": [
       "LinearRegression(copy_X=True, fit_intercept=True, n_jobs=1, normalize=False)"
      ]
     },
     "execution_count": 4,
     "metadata": {},
     "output_type": "execute_result"
    }
   ],
   "source": [
    "from sklearn import linear_model\n",
    "from sklearn.metrics import mean_squared_error\n",
    "\n",
    "\n",
    "#Cast to numpy for scikit-learn and only take the non-trivial datapoints\n",
    "ar_data = df_train[df_train['Open'] == True].as_matrix(columns=['Sales', 'Customers'])\n",
    "\n",
    "# Take 20% of randomly chosen datapoints for evaluation\n",
    "n = len(ar_data)\n",
    "np.random.shuffle(ar_data)\n",
    "amnt_eval = int(np.round(0.2*n))\n",
    "train_set = ar_data[amnt_eval:]\n",
    "eval_set = ar_data[:amnt_eval]\n",
    "\n",
    "# Train the model\n",
    "linregr = linear_model.LinearRegression()\n",
    "linregr.fit(X=train_set[:, 1].reshape(-1, 1), y=train_set[:, 0])"
   ]
  },
  {
   "cell_type": "markdown",
   "metadata": {},
   "source": [
    "Lets use the same evaluation function as in the original challenge: \"Submissions are evaluated on the Root Mean Square Percentage Error (RMSPE) [..] Any day and store with 0 sales is ignored in scoring.\""
   ]
  },
  {
   "cell_type": "code",
   "execution_count": 10,
   "metadata": {},
   "outputs": [
    {
     "name": "stdout",
     "output_type": "stream",
     "text": [
      "RMSPE: 0.280\n"
     ]
    }
   ],
   "source": [
    "eval_y_pred = linregr.predict(eval_set[:, 1].reshape(-1, 1))\n",
    "def rmspe(ar_pred, ar_truth):\n",
    "    \"\"\"\n",
    "    Calculates the root mean square percentage error. Any entries with a truth value of 0 are ignored\n",
    "    \"\"\"\n",
    "    nonzero_idx = np.nonzero(ar_truth)\n",
    "    ar_pred = ar_pred[nonzero_idx]\n",
    "    ar_truth = ar_truth[nonzero_idx]\n",
    "    spe = np.power(np.divide(np.subtract(ar_pred, ar_truth), ar_truth), 2)\n",
    "    return np.sqrt(np.average(spe))\n",
    "\n",
    "\n",
    "print(\"RMSPE: {0:0.3f}\".format(rmspe(eval_y_pred, eval_set[:, 0])))"
   ]
  },
  {
   "cell_type": "markdown",
   "metadata": {},
   "source": [
    "Not too bad regarding the fact we only used a single feature. Now lets find out if we could use some usefull information from the date, a feature we havent really looked at yet."
   ]
  },
  {
   "cell_type": "code",
   "execution_count": 4,
   "metadata": {},
   "outputs": [
    {
     "data": {
      "text/plain": [
       "count                 1017209\n",
       "unique                    942\n",
       "top       2015-06-09 00:00:00\n",
       "freq                     1115\n",
       "first     2013-01-01 00:00:00\n",
       "last      2015-07-31 00:00:00\n",
       "Name: Date, dtype: object"
      ]
     },
     "execution_count": 4,
     "metadata": {},
     "output_type": "execute_result"
    }
   ],
   "source": [
    "df_train['Date'].describe()"
   ]
  },
  {
   "cell_type": "code",
   "execution_count": 12,
   "metadata": {},
   "outputs": [
    {
     "data": {
      "image/png": "[encoded data removed]",
      "text/plain": [
       "<matplotlib.figure.Figure at 0x7feb87cb58d0>"
      ]
     },
     "metadata": {},
     "output_type": "display_data"
    }
   ],
   "source": [
    "df_dateidx = df_train[['Sales', 'Date']].set_index('Date')\n",
    "df_dateidx = df_dateidx.resample('M').sum()\n",
    "#print(df_dateidx)\n",
    "ax = df_dateidx['Sales'].plot()\n",
    "ax.set_ylim([1.3 * 10**8, 2.6 * 10**8])\n",
    "plt.show()"
   ]
  },
  {
   "cell_type": "markdown",
   "metadata": {},
   "source": [
    "It is unlikely that we can craft a useful feature from the date. There isnt really a correlation between month and sales, e.g. Jul 2014 is the all-time low but Jul '13 and '15 have quite high sales. \n",
    "\n",
    "Good thing we have some more features regarding the stores, lets check out what we got there"
   ]
  },
  {
   "cell_type": "code",
   "execution_count": 151,
   "metadata": {},
   "outputs": [
    {
     "name": "stdout",
     "output_type": "stream",
     "text": [
      "Amount of rows: 1115\n",
      "Missing values? True\n"
     ]
    },
    {
     "data": {
      "text/plain": [
       "Store                         int32\n",
       "StoreType                    object\n",
       "Assortment                   object\n",
       "CompetitionDistance          object\n",
       "CompetitionOpenSinceMonth    object\n",
       "CompetitionOpenSinceYear     object\n",
       "Promo2                         bool\n",
       "Promo2SinceWeek              object\n",
       "Promo2SinceYear              object\n",
       "PromoInterval                object\n",
       "dtype: object"
      ]
     },
     "execution_count": 151,
     "metadata": {},
     "output_type": "execute_result"
    }
   ],
   "source": [
    "types_store = {'Store': np.int32,\n",
    "               'StoreType': str,\n",
    "               'Assortment': str,\n",
    "               'CompetitionDistance': str, # cant use int here, some cells are empty\n",
    "               'CompetitionOpenSinceMonth': str,\n",
    "               'CompetitionOpenSinceYear': str,\n",
    "               'Promo2': bool,\n",
    "               'Promo2SinceWeek': str,\n",
    "               'Promo2SinceYear': str,\n",
    "               'PromoInterval': str}\n",
    "df_store = pd.read_csv('./data/store.csv',\n",
    "                       dtype=types_store)\n",
    "print('Amount of rows: ' + str(len(df_store)))    \n",
    "print('Missing values? ' + str(df_store.isnull().values.any()))\n",
    "df_store.dtypes"
   ]
  },
  {
   "cell_type": "code",
   "execution_count": 152,
   "metadata": {},
   "outputs": [
    {
     "data": {
      "text/plain": [
       "Store                          0\n",
       "StoreType                      0\n",
       "Assortment                     0\n",
       "CompetitionDistance            3\n",
       "CompetitionOpenSinceMonth    354\n",
       "CompetitionOpenSinceYear     354\n",
       "Promo2                         0\n",
       "Promo2SinceWeek              544\n",
       "Promo2SinceYear              544\n",
       "PromoInterval                544\n",
       "dtype: int64"
      ]
     },
     "execution_count": 152,
     "metadata": {},
     "output_type": "execute_result"
    }
   ],
   "source": [
    "df_store.replace('', np.nan, inplace=True)\n",
    "df_store.isnull().sum()"
   ]
  },
  {
   "cell_type": "markdown",
   "metadata": {},
   "source": [
    "We need to do some data cleansing. Lets replace missing values at 'CompetitionDistance' with the median of that column. (Median is more robust to outliers than the mean) "
   ]
  },
  {
   "cell_type": "code",
   "execution_count": 153,
   "metadata": {},
   "outputs": [
    {
     "name": "stdout",
     "output_type": "stream",
     "text": [
      "Median distance to competitors: 2325.0\n"
     ]
    },
    {
     "data": {
      "text/plain": [
       "Store                         int32\n",
       "StoreType                    object\n",
       "Assortment                   object\n",
       "CompetitionDistance           int32\n",
       "CompetitionOpenSinceMonth    object\n",
       "CompetitionOpenSinceYear     object\n",
       "Promo2                         bool\n",
       "Promo2SinceWeek              object\n",
       "Promo2SinceYear              object\n",
       "PromoInterval                object\n",
       "dtype: object"
      ]
     },
     "execution_count": 153,
     "metadata": {},
     "output_type": "execute_result"
    }
   ],
   "source": [
    "comp_dist_avg = df_store[~df_store['CompetitionDistance'].isnull()]['CompetitionDistance'].astype(np.float32).median()\n",
    "print('Median distance to competitors: ' + str(comp_dist_avg))\n",
    "comp_dist_avg = int(np.round(comp_dist_avg))\n",
    "#df_store[df_store['CompetitionDistance'].isnull()]['CompetitionDistance'] = str(comp_dist_avg)\n",
    "df_store['CompetitionDistance'].replace(np.nan, str(comp_dist_avg), inplace=True)\n",
    "df_store['CompetitionDistance'] = df_store['CompetitionDistance'].astype(np.int32)\n",
    "df_store.dtypes"
   ]
  },
  {
   "cell_type": "markdown",
   "metadata": {},
   "source": [
    "Finding meanfull replacements for the columns \"CompetitionOpenSinceMonth/Year' is more difficult. Lets have a closer look at these variables and if they actually influence the sales."
   ]
  },
  {
   "cell_type": "code",
   "execution_count": 154,
   "metadata": {},
   "outputs": [
    {
     "data": {
      "text/plain": [
       "354"
      ]
     },
     "execution_count": 154,
     "metadata": {},
     "output_type": "execute_result"
    }
   ],
   "source": [
    "len(df_store[df_store['CompetitionOpenSinceYear'].isnull() & df_store['CompetitionOpenSinceYear'].isnull()])"
   ]
  },
  {
   "cell_type": "markdown",
   "metadata": {},
   "source": [
    "We already knew that there are 354 null values in each column. So we either have both of them, or neither"
   ]
  },
  {
   "cell_type": "code",
   "execution_count": 155,
   "metadata": {},
   "outputs": [
    {
     "data": {
      "text/html": [
       "<div>\n",
       "<style>\n",
       "    .dataframe thead tr:only-child th {\n",
       "        text-align: right;\n",
       "    }\n",
       "\n",
       "    .dataframe thead th {\n",
       "        text-align: left;\n",
       "    }\n",
       "\n",
       "    .dataframe tbody tr th {\n",
       "        vertical-align: top;\n",
       "    }\n",
       "</style>\n",
       "<table border=\"1\" class=\"dataframe\">\n",
       "  <thead>\n",
       "    <tr style=\"text-align: right;\">\n",
       "      <th></th>\n",
       "      <th>Store</th>\n",
       "      <th>CompetitionOpenSinceYear</th>\n",
       "    </tr>\n",
       "  </thead>\n",
       "  <tbody>\n",
       "    <tr>\n",
       "      <th>count</th>\n",
       "      <td>761.000000</td>\n",
       "      <td>761.000000</td>\n",
       "    </tr>\n",
       "    <tr>\n",
       "      <th>mean</th>\n",
       "      <td>556.797635</td>\n",
       "      <td>2008.668857</td>\n",
       "    </tr>\n",
       "    <tr>\n",
       "      <th>std</th>\n",
       "      <td>322.605611</td>\n",
       "      <td>6.195983</td>\n",
       "    </tr>\n",
       "    <tr>\n",
       "      <th>min</th>\n",
       "      <td>1.000000</td>\n",
       "      <td>1900.000000</td>\n",
       "    </tr>\n",
       "    <tr>\n",
       "      <th>25%</th>\n",
       "      <td>281.000000</td>\n",
       "      <td>2006.000000</td>\n",
       "    </tr>\n",
       "    <tr>\n",
       "      <th>50%</th>\n",
       "      <td>570.000000</td>\n",
       "      <td>2010.000000</td>\n",
       "    </tr>\n",
       "    <tr>\n",
       "      <th>75%</th>\n",
       "      <td>831.000000</td>\n",
       "      <td>2013.000000</td>\n",
       "    </tr>\n",
       "    <tr>\n",
       "      <th>max</th>\n",
       "      <td>1112.000000</td>\n",
       "      <td>2015.000000</td>\n",
       "    </tr>\n",
       "  </tbody>\n",
       "</table>\n",
       "</div>"
      ],
      "text/plain": [
       "             Store  CompetitionOpenSinceYear\n",
       "count   761.000000                761.000000\n",
       "mean    556.797635               2008.668857\n",
       "std     322.605611                  6.195983\n",
       "min       1.000000               1900.000000\n",
       "25%     281.000000               2006.000000\n",
       "50%     570.000000               2010.000000\n",
       "75%     831.000000               2013.000000\n",
       "max    1112.000000               2015.000000"
      ]
     },
     "execution_count": 155,
     "metadata": {},
     "output_type": "execute_result"
    }
   ],
   "source": [
    "df_comps = df_store[~df_store['CompetitionOpenSinceYear'].isnull()][['Store', 'CompetitionOpenSinceYear']]\n",
    "df_comps = df_comps.astype(np.int32)\n",
    "df_comps.describe()"
   ]
  },
  {
   "cell_type": "code",
   "execution_count": 156,
   "metadata": {},
   "outputs": [
    {
     "data": {
      "text/plain": [
       "<matplotlib.axes._subplots.AxesSubplot at 0x7feb849a7748>"
      ]
     },
     "execution_count": 156,
     "metadata": {},
     "output_type": "execute_result"
    },
    {
     "data": {
      "image/png": "[encoded data removed]",
      "text/plain": [
       "<matplotlib.figure.Figure at 0x7feb85b021d0>"
      ]
     },
     "metadata": {},
     "output_type": "display_data"
    }
   ],
   "source": [
    "df_comps.groupby(['CompetitionOpenSinceYear']).count().plot.bar()"
   ]
  },
  {
   "cell_type": "markdown",
   "metadata": {},
   "source": [
    "1900 is an outlier. It probably also doesnt make a difference if a competitor opened 20 or 30 years ago, so we can think about simplifying the data by unifying all pre-2000 datapoints. But lets see the relationship with the sales first."
   ]
  },
  {
   "cell_type": "code",
   "execution_count": 157,
   "metadata": {},
   "outputs": [
    {
     "data": {
      "text/html": [
       "<div>\n",
       "<style>\n",
       "    .dataframe thead tr:only-child th {\n",
       "        text-align: right;\n",
       "    }\n",
       "\n",
       "    .dataframe thead th {\n",
       "        text-align: left;\n",
       "    }\n",
       "\n",
       "    .dataframe tbody tr th {\n",
       "        vertical-align: top;\n",
       "    }\n",
       "</style>\n",
       "<table border=\"1\" class=\"dataframe\">\n",
       "  <thead>\n",
       "    <tr style=\"text-align: right;\">\n",
       "      <th></th>\n",
       "      <th>Sales</th>\n",
       "      <th>CompetitionDistance</th>\n",
       "      <th>CompetitionOpenSinceMonth</th>\n",
       "      <th>CompetitionOpenSinceYear</th>\n",
       "      <th>Promo2</th>\n",
       "    </tr>\n",
       "  </thead>\n",
       "  <tbody>\n",
       "    <tr>\n",
       "      <th>Sales</th>\n",
       "      <td>1.000000</td>\n",
       "      <td>-0.048979</td>\n",
       "      <td>-0.052453</td>\n",
       "      <td>0.018893</td>\n",
       "      <td>-0.176585</td>\n",
       "    </tr>\n",
       "    <tr>\n",
       "      <th>CompetitionDistance</th>\n",
       "      <td>-0.048979</td>\n",
       "      <td>1.000000</td>\n",
       "      <td>-0.059126</td>\n",
       "      <td>0.025124</td>\n",
       "      <td>-0.140708</td>\n",
       "    </tr>\n",
       "    <tr>\n",
       "      <th>CompetitionOpenSinceMonth</th>\n",
       "      <td>-0.052453</td>\n",
       "      <td>-0.059126</td>\n",
       "      <td>1.000000</td>\n",
       "      <td>-0.052250</td>\n",
       "      <td>-0.011485</td>\n",
       "    </tr>\n",
       "    <tr>\n",
       "      <th>CompetitionOpenSinceYear</th>\n",
       "      <td>0.018893</td>\n",
       "      <td>0.025124</td>\n",
       "      <td>-0.052250</td>\n",
       "      <td>1.000000</td>\n",
       "      <td>-0.076520</td>\n",
       "    </tr>\n",
       "    <tr>\n",
       "      <th>Promo2</th>\n",
       "      <td>-0.176585</td>\n",
       "      <td>-0.140708</td>\n",
       "      <td>-0.011485</td>\n",
       "      <td>-0.076520</td>\n",
       "      <td>1.000000</td>\n",
       "    </tr>\n",
       "  </tbody>\n",
       "</table>\n",
       "</div>"
      ],
      "text/plain": [
       "                              Sales  CompetitionDistance  \\\n",
       "Sales                      1.000000            -0.048979   \n",
       "CompetitionDistance       -0.048979             1.000000   \n",
       "CompetitionOpenSinceMonth -0.052453            -0.059126   \n",
       "CompetitionOpenSinceYear   0.018893             0.025124   \n",
       "Promo2                    -0.176585            -0.140708   \n",
       "\n",
       "                           CompetitionOpenSinceMonth  \\\n",
       "Sales                                      -0.052453   \n",
       "CompetitionDistance                        -0.059126   \n",
       "CompetitionOpenSinceMonth                   1.000000   \n",
       "CompetitionOpenSinceYear                   -0.052250   \n",
       "Promo2                                     -0.011485   \n",
       "\n",
       "                           CompetitionOpenSinceYear    Promo2  \n",
       "Sales                                      0.018893 -0.176585  \n",
       "CompetitionDistance                        0.025124 -0.140708  \n",
       "CompetitionOpenSinceMonth                 -0.052250 -0.011485  \n",
       "CompetitionOpenSinceYear                   1.000000 -0.076520  \n",
       "Promo2                                    -0.076520  1.000000  "
      ]
     },
     "execution_count": 157,
     "metadata": {},
     "output_type": "execute_result"
    }
   ],
   "source": [
    "df_comps = df_store[~df_store['CompetitionOpenSinceYear'].isnull()]\n",
    "df_comps = df_comps.astype(dtype={'CompetitionOpenSinceYear': np.int32,\n",
    "                       'CompetitionOpenSinceMonth': np.int32})\n",
    "df_merge = pd.merge(df_train[['Store','Sales']], df_comps, how = 'inner', on = 'Store')\n",
    "df_merge = df_merge.groupby('Store').agg(np.mean)\n",
    "df_merge.corr(method='pearson')"
   ]
  },
  {
   "cell_type": "markdown",
   "metadata": {},
   "source": [
    "We aggregated over different dates using the mean, so sales contains the average sale per day for a certain store. The other values are simply the corresponding values for each store. We dont really see any high correlation values here. Suprisingly, Promo2 seems to have a negativ effect on the sales."
   ]
  },
  {
   "cell_type": "markdown",
   "metadata": {},
   "source": [
    "Lets just replace the missing values with 0 for now, one-hot encode the categorical features and get our complete dataset."
   ]
  },
  {
   "cell_type": "code",
   "execution_count": 163,
   "metadata": {},
   "outputs": [
    {
     "data": {
      "text/html": [
       "<div>\n",
       "<style>\n",
       "    .dataframe thead tr:only-child th {\n",
       "        text-align: right;\n",
       "    }\n",
       "\n",
       "    .dataframe thead th {\n",
       "        text-align: left;\n",
       "    }\n",
       "\n",
       "    .dataframe tbody tr th {\n",
       "        vertical-align: top;\n",
       "    }\n",
       "</style>\n",
       "<table border=\"1\" class=\"dataframe\">\n",
       "  <thead>\n",
       "    <tr style=\"text-align: right;\">\n",
       "      <th></th>\n",
       "      <th>Store</th>\n",
       "      <th>DayOfWeek</th>\n",
       "      <th>Sales</th>\n",
       "      <th>Customers</th>\n",
       "      <th>Open</th>\n",
       "      <th>Promo</th>\n",
       "      <th>StateHoliday</th>\n",
       "      <th>SchoolHoliday</th>\n",
       "      <th>StoreType</th>\n",
       "      <th>Assortment</th>\n",
       "      <th>CompetitionDistance</th>\n",
       "      <th>CompetitionOpenSinceMonth</th>\n",
       "      <th>CompetitionOpenSinceYear</th>\n",
       "      <th>Promo2</th>\n",
       "    </tr>\n",
       "  </thead>\n",
       "  <tbody>\n",
       "    <tr>\n",
       "      <th>Store</th>\n",
       "      <td>1.000000</td>\n",
       "      <td>0.000009</td>\n",
       "      <td>0.011029</td>\n",
       "      <td>0.031294</td>\n",
       "      <td>0.000923</td>\n",
       "      <td>-0.000037</td>\n",
       "      <td>0.000815</td>\n",
       "      <td>-0.000195</td>\n",
       "      <td>0.006064</td>\n",
       "      <td>-0.024612</td>\n",
       "      <td>-0.059835</td>\n",
       "      <td>-0.050746</td>\n",
       "      <td>-0.004592</td>\n",
       "      <td>0.007035</td>\n",
       "    </tr>\n",
       "    <tr>\n",
       "      <th>DayOfWeek</th>\n",
       "      <td>0.000009</td>\n",
       "      <td>1.000000</td>\n",
       "      <td>-0.465016</td>\n",
       "      <td>-0.401188</td>\n",
       "      <td>-0.530121</td>\n",
       "      <td>-0.392926</td>\n",
       "      <td>-0.044658</td>\n",
       "      <td>-0.208266</td>\n",
       "      <td>0.000053</td>\n",
       "      <td>-0.000056</td>\n",
       "      <td>-0.000021</td>\n",
       "      <td>0.000006</td>\n",
       "      <td>-0.000025</td>\n",
       "      <td>0.000178</td>\n",
       "    </tr>\n",
       "    <tr>\n",
       "      <th>Sales</th>\n",
       "      <td>0.011029</td>\n",
       "      <td>-0.465016</td>\n",
       "      <td>1.000000</td>\n",
       "      <td>0.906758</td>\n",
       "      <td>0.675621</td>\n",
       "      <td>0.452905</td>\n",
       "      <td>-0.228049</td>\n",
       "      <td>0.088388</td>\n",
       "      <td>0.003709</td>\n",
       "      <td>0.084118</td>\n",
       "      <td>-0.026918</td>\n",
       "      <td>-0.028257</td>\n",
       "      <td>0.012659</td>\n",
       "      <td>-0.092336</td>\n",
       "    </tr>\n",
       "    <tr>\n",
       "      <th>Customers</th>\n",
       "      <td>0.031294</td>\n",
       "      <td>-0.401188</td>\n",
       "      <td>0.906758</td>\n",
       "      <td>1.000000</td>\n",
       "      <td>0.629047</td>\n",
       "      <td>0.326866</td>\n",
       "      <td>-0.209601</td>\n",
       "      <td>0.076885</td>\n",
       "      <td>-0.117203</td>\n",
       "      <td>0.000228</td>\n",
       "      <td>-0.107785</td>\n",
       "      <td>-0.030954</td>\n",
       "      <td>0.008931</td>\n",
       "      <td>-0.163013</td>\n",
       "    </tr>\n",
       "    <tr>\n",
       "      <th>Open</th>\n",
       "      <td>0.000923</td>\n",
       "      <td>-0.530121</td>\n",
       "      <td>0.675621</td>\n",
       "      <td>0.629047</td>\n",
       "      <td>1.000000</td>\n",
       "      <td>0.296316</td>\n",
       "      <td>-0.340420</td>\n",
       "      <td>0.089089</td>\n",
       "      <td>-0.002863</td>\n",
       "      <td>0.002271</td>\n",
       "      <td>0.008024</td>\n",
       "      <td>0.001384</td>\n",
       "      <td>0.002771</td>\n",
       "      <td>-0.010123</td>\n",
       "    </tr>\n",
       "    <tr>\n",
       "      <th>Promo</th>\n",
       "      <td>-0.000037</td>\n",
       "      <td>-0.392926</td>\n",
       "      <td>0.452905</td>\n",
       "      <td>0.326866</td>\n",
       "      <td>0.296316</td>\n",
       "      <td>1.000000</td>\n",
       "      <td>-0.024885</td>\n",
       "      <td>0.072988</td>\n",
       "      <td>-0.000315</td>\n",
       "      <td>0.000315</td>\n",
       "      <td>0.000115</td>\n",
       "      <td>-0.000023</td>\n",
       "      <td>0.000152</td>\n",
       "      <td>-0.001043</td>\n",
       "    </tr>\n",
       "    <tr>\n",
       "      <th>StateHoliday</th>\n",
       "      <td>0.000815</td>\n",
       "      <td>-0.044658</td>\n",
       "      <td>-0.228049</td>\n",
       "      <td>-0.209601</td>\n",
       "      <td>-0.340420</td>\n",
       "      <td>-0.024885</td>\n",
       "      <td>1.000000</td>\n",
       "      <td>0.195997</td>\n",
       "      <td>0.001300</td>\n",
       "      <td>-0.001711</td>\n",
       "      <td>0.000084</td>\n",
       "      <td>0.000519</td>\n",
       "      <td>-0.002456</td>\n",
       "      <td>0.005413</td>\n",
       "    </tr>\n",
       "    <tr>\n",
       "      <th>SchoolHoliday</th>\n",
       "      <td>-0.000195</td>\n",
       "      <td>-0.208266</td>\n",
       "      <td>0.088388</td>\n",
       "      <td>0.076885</td>\n",
       "      <td>0.089089</td>\n",
       "      <td>0.072988</td>\n",
       "      <td>0.195997</td>\n",
       "      <td>1.000000</td>\n",
       "      <td>-0.002142</td>\n",
       "      <td>-0.003194</td>\n",
       "      <td>-0.004088</td>\n",
       "      <td>-0.000526</td>\n",
       "      <td>0.001520</td>\n",
       "      <td>-0.006850</td>\n",
       "    </tr>\n",
       "    <tr>\n",
       "      <th>StoreType</th>\n",
       "      <td>0.006064</td>\n",
       "      <td>0.000053</td>\n",
       "      <td>0.003709</td>\n",
       "      <td>-0.117203</td>\n",
       "      <td>-0.002863</td>\n",
       "      <td>-0.000315</td>\n",
       "      <td>0.001300</td>\n",
       "      <td>-0.002142</td>\n",
       "      <td>1.000000</td>\n",
       "      <td>0.290397</td>\n",
       "      <td>0.095552</td>\n",
       "      <td>0.026962</td>\n",
       "      <td>0.025143</td>\n",
       "      <td>0.053174</td>\n",
       "    </tr>\n",
       "    <tr>\n",
       "      <th>Assortment</th>\n",
       "      <td>-0.024612</td>\n",
       "      <td>-0.000056</td>\n",
       "      <td>0.084118</td>\n",
       "      <td>0.000228</td>\n",
       "      <td>0.002271</td>\n",
       "      <td>0.000315</td>\n",
       "      <td>-0.001711</td>\n",
       "      <td>-0.003194</td>\n",
       "      <td>0.290397</td>\n",
       "      <td>1.000000</td>\n",
       "      <td>0.187327</td>\n",
       "      <td>-0.000643</td>\n",
       "      <td>0.061422</td>\n",
       "      <td>-0.018637</td>\n",
       "    </tr>\n",
       "    <tr>\n",
       "      <th>CompetitionDistance</th>\n",
       "      <td>-0.059835</td>\n",
       "      <td>-0.000021</td>\n",
       "      <td>-0.026918</td>\n",
       "      <td>-0.107785</td>\n",
       "      <td>0.008024</td>\n",
       "      <td>0.000115</td>\n",
       "      <td>0.000084</td>\n",
       "      <td>-0.004088</td>\n",
       "      <td>0.095552</td>\n",
       "      <td>0.187327</td>\n",
       "      <td>1.000000</td>\n",
       "      <td>-0.061624</td>\n",
       "      <td>0.025397</td>\n",
       "      <td>-0.135053</td>\n",
       "    </tr>\n",
       "    <tr>\n",
       "      <th>CompetitionOpenSinceMonth</th>\n",
       "      <td>-0.050746</td>\n",
       "      <td>0.000006</td>\n",
       "      <td>-0.028257</td>\n",
       "      <td>-0.030954</td>\n",
       "      <td>0.001384</td>\n",
       "      <td>-0.000023</td>\n",
       "      <td>0.000519</td>\n",
       "      <td>-0.000526</td>\n",
       "      <td>0.026962</td>\n",
       "      <td>-0.000643</td>\n",
       "      <td>-0.061624</td>\n",
       "      <td>1.000000</td>\n",
       "      <td>-0.060594</td>\n",
       "      <td>-0.009383</td>\n",
       "    </tr>\n",
       "    <tr>\n",
       "      <th>CompetitionOpenSinceYear</th>\n",
       "      <td>-0.004592</td>\n",
       "      <td>-0.000025</td>\n",
       "      <td>0.012659</td>\n",
       "      <td>0.008931</td>\n",
       "      <td>0.002771</td>\n",
       "      <td>0.000152</td>\n",
       "      <td>-0.002456</td>\n",
       "      <td>0.001520</td>\n",
       "      <td>0.025143</td>\n",
       "      <td>0.061422</td>\n",
       "      <td>0.025397</td>\n",
       "      <td>-0.060594</td>\n",
       "      <td>1.000000</td>\n",
       "      <td>-0.077336</td>\n",
       "    </tr>\n",
       "    <tr>\n",
       "      <th>Promo2</th>\n",
       "      <td>0.007035</td>\n",
       "      <td>0.000178</td>\n",
       "      <td>-0.092336</td>\n",
       "      <td>-0.163013</td>\n",
       "      <td>-0.010123</td>\n",
       "      <td>-0.001043</td>\n",
       "      <td>0.005413</td>\n",
       "      <td>-0.006850</td>\n",
       "      <td>0.053174</td>\n",
       "      <td>-0.018637</td>\n",
       "      <td>-0.135053</td>\n",
       "      <td>-0.009383</td>\n",
       "      <td>-0.077336</td>\n",
       "      <td>1.000000</td>\n",
       "    </tr>\n",
       "  </tbody>\n",
       "</table>\n",
       "</div>"
      ],
      "text/plain": [
       "                              Store  DayOfWeek     Sales  Customers      Open  \\\n",
       "Store                      1.000000   0.000009  0.011029   0.031294  0.000923   \n",
       "DayOfWeek                  0.000009   1.000000 -0.465016  -0.401188 -0.530121   \n",
       "Sales                      0.011029  -0.465016  1.000000   0.906758  0.675621   \n",
       "Customers                  0.031294  -0.401188  0.906758   1.000000  0.629047   \n",
       "Open                       0.000923  -0.530121  0.675621   0.629047  1.000000   \n",
       "Promo                     -0.000037  -0.392926  0.452905   0.326866  0.296316   \n",
       "StateHoliday               0.000815  -0.044658 -0.228049  -0.209601 -0.340420   \n",
       "SchoolHoliday             -0.000195  -0.208266  0.088388   0.076885  0.089089   \n",
       "StoreType                  0.006064   0.000053  0.003709  -0.117203 -0.002863   \n",
       "Assortment                -0.024612  -0.000056  0.084118   0.000228  0.002271   \n",
       "CompetitionDistance       -0.059835  -0.000021 -0.026918  -0.107785  0.008024   \n",
       "CompetitionOpenSinceMonth -0.050746   0.000006 -0.028257  -0.030954  0.001384   \n",
       "CompetitionOpenSinceYear  -0.004592  -0.000025  0.012659   0.008931  0.002771   \n",
       "Promo2                     0.007035   0.000178 -0.092336  -0.163013 -0.010123   \n",
       "\n",
       "                              Promo  StateHoliday  SchoolHoliday  StoreType  \\\n",
       "Store                     -0.000037      0.000815      -0.000195   0.006064   \n",
       "DayOfWeek                 -0.392926     -0.044658      -0.208266   0.000053   \n",
       "Sales                      0.452905     -0.228049       0.088388   0.003709   \n",
       "Customers                  0.326866     -0.209601       0.076885  -0.117203   \n",
       "Open                       0.296316     -0.340420       0.089089  -0.002863   \n",
       "Promo                      1.000000     -0.024885       0.072988  -0.000315   \n",
       "StateHoliday              -0.024885      1.000000       0.195997   0.001300   \n",
       "SchoolHoliday              0.072988      0.195997       1.000000  -0.002142   \n",
       "StoreType                 -0.000315      0.001300      -0.002142   1.000000   \n",
       "Assortment                 0.000315     -0.001711      -0.003194   0.290397   \n",
       "CompetitionDistance        0.000115      0.000084      -0.004088   0.095552   \n",
       "CompetitionOpenSinceMonth -0.000023      0.000519      -0.000526   0.026962   \n",
       "CompetitionOpenSinceYear   0.000152     -0.002456       0.001520   0.025143   \n",
       "Promo2                    -0.001043      0.005413      -0.006850   0.053174   \n",
       "\n",
       "                           Assortment  CompetitionDistance  \\\n",
       "Store                       -0.024612            -0.059835   \n",
       "DayOfWeek                   -0.000056            -0.000021   \n",
       "Sales                        0.084118            -0.026918   \n",
       "Customers                    0.000228            -0.107785   \n",
       "Open                         0.002271             0.008024   \n",
       "Promo                        0.000315             0.000115   \n",
       "StateHoliday                -0.001711             0.000084   \n",
       "SchoolHoliday               -0.003194            -0.004088   \n",
       "StoreType                    0.290397             0.095552   \n",
       "Assortment                   1.000000             0.187327   \n",
       "CompetitionDistance          0.187327             1.000000   \n",
       "CompetitionOpenSinceMonth   -0.000643            -0.061624   \n",
       "CompetitionOpenSinceYear     0.061422             0.025397   \n",
       "Promo2                      -0.018637            -0.135053   \n",
       "\n",
       "                           CompetitionOpenSinceMonth  \\\n",
       "Store                                      -0.050746   \n",
       "DayOfWeek                                   0.000006   \n",
       "Sales                                      -0.028257   \n",
       "Customers                                  -0.030954   \n",
       "Open                                        0.001384   \n",
       "Promo                                      -0.000023   \n",
       "StateHoliday                                0.000519   \n",
       "SchoolHoliday                              -0.000526   \n",
       "StoreType                                   0.026962   \n",
       "Assortment                                 -0.000643   \n",
       "CompetitionDistance                        -0.061624   \n",
       "CompetitionOpenSinceMonth                   1.000000   \n",
       "CompetitionOpenSinceYear                   -0.060594   \n",
       "Promo2                                     -0.009383   \n",
       "\n",
       "                           CompetitionOpenSinceYear    Promo2  \n",
       "Store                                     -0.004592  0.007035  \n",
       "DayOfWeek                                 -0.000025  0.000178  \n",
       "Sales                                      0.012659 -0.092336  \n",
       "Customers                                  0.008931 -0.163013  \n",
       "Open                                       0.002771 -0.010123  \n",
       "Promo                                      0.000152 -0.001043  \n",
       "StateHoliday                              -0.002456  0.005413  \n",
       "SchoolHoliday                              0.001520 -0.006850  \n",
       "StoreType                                  0.025143  0.053174  \n",
       "Assortment                                 0.061422 -0.018637  \n",
       "CompetitionDistance                        0.025397 -0.135053  \n",
       "CompetitionOpenSinceMonth                 -0.060594 -0.009383  \n",
       "CompetitionOpenSinceYear                   1.000000 -0.077336  \n",
       "Promo2                                    -0.077336  1.000000  "
      ]
     },
     "execution_count": 163,
     "metadata": {},
     "output_type": "execute_result"
    }
   ],
   "source": [
    "df_store.replace(np.nan, 0, inplace=True)\n",
    "df_store.drop('PromoInterval', axis = 1)\n",
    "df_store = df_store.astype(dtype={'CompetitionOpenSinceYear': np.int32,\n",
    "                       'CompetitionOpenSinceMonth': np.int32})\n",
    "df_merge = pd.merge(df_train, df_comps, how = 'inner', on = 'Store')\n",
    "df_merge['Assortment'] = pd.Categorical(df_merge['Assortment']).codes\n",
    "df_merge['StoreType'] = pd.Categorical(df_merge['StoreType']).codes\n",
    "df_merge.corr(method='pearson')"
   ]
  },
  {
   "cell_type": "code",
   "execution_count": null,
   "metadata": {},
   "outputs": [],
   "source": []
  }
 ],
 "metadata": {
  "kernelspec": {
   "display_name": "Python 3",
   "language": "python",
   "name": "python3"
  },
  "language_info": {
   "codemirror_mode": {
    "name": "ipython",
    "version": 3
   },
   "file_extension": ".py",
   "mimetype": "text/x-python",
   "name": "python",
   "nbconvert_exporter": "python",
   "pygments_lexer": "ipython3",
   "version": "3.5.3"
  }
 },
 "nbformat": 4,
 "nbformat_minor": 2
}
